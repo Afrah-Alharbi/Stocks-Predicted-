{
 "cells": [
  {
   "cell_type": "code",
   "execution_count": 1,
   "metadata": {
    "colab": {
     "base_uri": "https://localhost:8080/"
    },
    "id": "pk_5f0XnqWWN",
    "outputId": "cc2be08e-695c-42ac-ab18-53802104824b"
   },
   "outputs": [
    {
     "name": "stdout",
     "output_type": "stream",
     "text": [
      "Requirement already satisfied: yfinance in c:\\users\\hp\\anaconda3\\lib\\site-packages (0.1.70)\n",
      "Requirement already satisfied: requests>=2.26 in c:\\users\\hp\\anaconda3\\lib\\site-packages (from yfinance) (2.26.0)\n",
      "Requirement already satisfied: pandas>=0.24.0 in c:\\users\\hp\\anaconda3\\lib\\site-packages (from yfinance) (1.3.4)\n",
      "Requirement already satisfied: multitasking>=0.0.7 in c:\\users\\hp\\anaconda3\\lib\\site-packages (from yfinance) (0.0.10)\n",
      "Requirement already satisfied: numpy>=1.15 in c:\\users\\hp\\anaconda3\\lib\\site-packages (from yfinance) (1.20.3)\n",
      "Requirement already satisfied: lxml>=4.5.1 in c:\\users\\hp\\anaconda3\\lib\\site-packages (from yfinance) (4.6.3)\n",
      "Note: you may need to restart the kernel to use updated packages.\n",
      "Requirement already satisfied: python-dateutil>=2.7.3 in c:\\users\\hp\\anaconda3\\lib\\site-packages (from pandas>=0.24.0->yfinance) (2.8.2)\n",
      "Requirement already satisfied: pytz>=2017.3 in c:\\users\\hp\\anaconda3\\lib\\site-packages (from pandas>=0.24.0->yfinance) (2021.3)\n",
      "Requirement already satisfied: six>=1.5 in c:\\users\\hp\\anaconda3\\lib\\site-packages (from python-dateutil>=2.7.3->pandas>=0.24.0->yfinance) (1.16.0)\n",
      "Requirement already satisfied: charset-normalizer~=2.0.0 in c:\\users\\hp\\anaconda3\\lib\\site-packages (from requests>=2.26->yfinance) (2.0.4)\n",
      "Requirement already satisfied: urllib3<1.27,>=1.21.1 in c:\\users\\hp\\anaconda3\\lib\\site-packages (from requests>=2.26->yfinance) (1.26.7)\n",
      "Requirement already satisfied: certifi>=2017.4.17 in c:\\users\\hp\\anaconda3\\lib\\site-packages (from requests>=2.26->yfinance) (2021.10.8)\n",
      "Requirement already satisfied: idna<4,>=2.5 in c:\\users\\hp\\anaconda3\\lib\\site-packages (from requests>=2.26->yfinance) (3.2)\n"
     ]
    }
   ],
   "source": [
    "pip install yfinance"
   ]
  },
  {
   "cell_type": "code",
   "execution_count": 2,
   "metadata": {
    "colab": {
     "base_uri": "https://localhost:8080/"
    },
    "id": "gRjuGZEBqr7B",
    "outputId": "a0c807c4-a6e9-4206-bbac-ab4c766688ca"
   },
   "outputs": [
    {
     "name": "stdout",
     "output_type": "stream",
     "text": [
      "Requirement already satisfied: pandas_datareader in c:\\users\\hp\\anaconda3\\lib\\site-packages (0.10.0)Note: you may need to restart the kernel to use updated packages.\n",
      "Requirement already satisfied: pandas>=0.23 in c:\\users\\hp\\anaconda3\\lib\\site-packages (from pandas_datareader) (1.3.4)\n",
      "Requirement already satisfied: lxml in c:\\users\\hp\\anaconda3\\lib\\site-packages (from pandas_datareader) (4.6.3)\n",
      "Requirement already satisfied: requests>=2.19.0 in c:\\users\\hp\\anaconda3\\lib\\site-packages (from pandas_datareader) (2.26.0)\n",
      "Requirement already satisfied: pytz>=2017.3 in c:\\users\\hp\\anaconda3\\lib\\site-packages (from pandas>=0.23->pandas_datareader) (2021.3)\n",
      "Requirement already satisfied: python-dateutil>=2.7.3 in c:\\users\\hp\\anaconda3\\lib\\site-packages (from pandas>=0.23->pandas_datareader) (2.8.2)\n",
      "Requirement already satisfied: numpy>=1.17.3 in c:\\users\\hp\\anaconda3\\lib\\site-packages (from pandas>=0.23->pandas_datareader) (1.20.3)\n",
      "Requirement already satisfied: six>=1.5 in c:\\users\\hp\\anaconda3\\lib\\site-packages (from python-dateutil>=2.7.3->pandas>=0.23->pandas_datareader) (1.16.0)\n",
      "Requirement already satisfied: certifi>=2017.4.17 in c:\\users\\hp\\anaconda3\\lib\\site-packages (from requests>=2.19.0->pandas_datareader) (2021.10.8)\n",
      "Requirement already satisfied: idna<4,>=2.5 in c:\\users\\hp\\anaconda3\\lib\\site-packages (from requests>=2.19.0->pandas_datareader) (3.2)\n",
      "Requirement already satisfied: urllib3<1.27,>=1.21.1 in c:\\users\\hp\\anaconda3\\lib\\site-packages (from requests>=2.19.0->pandas_datareader) (1.26.7)\n",
      "Requirement already satisfied: charset-normalizer~=2.0.0 in c:\\users\\hp\\anaconda3\\lib\\site-packages (from requests>=2.19.0->pandas_datareader) (2.0.4)\n",
      "\n"
     ]
    }
   ],
   "source": [
    "pip install pandas_datareader"
   ]
  },
  {
   "cell_type": "code",
   "execution_count": 3,
   "metadata": {
    "id": "tRkVWM3Hqwef"
   },
   "outputs": [],
   "source": [
    "import datetime\n",
    "import numpy as np\n",
    "import pandas\n",
    "import pandas as pd\n",
    "import matplotlib.pyplot as plt\n",
    "import yfinance as yf\n",
    "from pandas_datareader import data as pdr\n",
    "from sklearn.model_selection import train_test_split\n",
    "from sklearn.tree import DecisionTreeClassifier\n",
    "from sklearn import metrics\n",
    "from sklearn.linear_model import LogisticRegression\n",
    "# import cufflinks as cf\n",
    "# cf.set_config_file(offline=True)"
   ]
  },
  {
   "cell_type": "code",
   "execution_count": 4,
   "metadata": {
    "id": "2UmbmL5Wq8S8"
   },
   "outputs": [],
   "source": [
    "yf.pdr_override()"
   ]
  },
  {
   "cell_type": "code",
   "execution_count": 5,
   "metadata": {
    "id": "dAJIhZrmrBmN"
   },
   "outputs": [],
   "source": [
    "stock_symbol= [\"GME\", \"TGT\", \"BND\",\"F\",\"SPY\"]"
   ]
  },
  {
   "cell_type": "code",
   "execution_count": 6,
   "metadata": {
    "colab": {
     "base_uri": "https://localhost:8080/",
     "height": 472
    },
    "id": "0E1LbU1Ssb_l",
    "outputId": "160737d5-12dd-41b3-fb4b-cc38f464bd80"
   },
   "outputs": [
    {
     "name": "stdout",
     "output_type": "stream",
     "text": [
      "[*********************100%***********************]  1 of 1 completed\n"
     ]
    },
    {
     "data": {
      "text/html": [
       "<div>\n",
       "<style scoped>\n",
       "    .dataframe tbody tr th:only-of-type {\n",
       "        vertical-align: middle;\n",
       "    }\n",
       "\n",
       "    .dataframe tbody tr th {\n",
       "        vertical-align: top;\n",
       "    }\n",
       "\n",
       "    .dataframe thead th {\n",
       "        text-align: right;\n",
       "    }\n",
       "</style>\n",
       "<table border=\"1\" class=\"dataframe\">\n",
       "  <thead>\n",
       "    <tr style=\"text-align: right;\">\n",
       "      <th></th>\n",
       "      <th>GME_Open</th>\n",
       "      <th>GME_Close</th>\n",
       "    </tr>\n",
       "    <tr>\n",
       "      <th>Date</th>\n",
       "      <th></th>\n",
       "      <th></th>\n",
       "    </tr>\n",
       "  </thead>\n",
       "  <tbody>\n",
       "    <tr>\n",
       "      <th>2010-12-31</th>\n",
       "      <td>5.7375</td>\n",
       "      <td>5.7200</td>\n",
       "    </tr>\n",
       "    <tr>\n",
       "      <th>2011-01-03</th>\n",
       "      <td>5.7675</td>\n",
       "      <td>5.7275</td>\n",
       "    </tr>\n",
       "    <tr>\n",
       "      <th>2011-01-04</th>\n",
       "      <td>5.7425</td>\n",
       "      <td>5.6250</td>\n",
       "    </tr>\n",
       "    <tr>\n",
       "      <th>2011-01-05</th>\n",
       "      <td>5.6225</td>\n",
       "      <td>5.4725</td>\n",
       "    </tr>\n",
       "    <tr>\n",
       "      <th>2011-01-06</th>\n",
       "      <td>5.3225</td>\n",
       "      <td>5.1575</td>\n",
       "    </tr>\n",
       "    <tr>\n",
       "      <th>...</th>\n",
       "      <td>...</td>\n",
       "      <td>...</td>\n",
       "    </tr>\n",
       "    <tr>\n",
       "      <th>2020-12-24</th>\n",
       "      <td>5.2525</td>\n",
       "      <td>5.0375</td>\n",
       "    </tr>\n",
       "    <tr>\n",
       "      <th>2020-12-28</th>\n",
       "      <td>5.3275</td>\n",
       "      <td>5.2475</td>\n",
       "    </tr>\n",
       "    <tr>\n",
       "      <th>2020-12-29</th>\n",
       "      <td>5.2050</td>\n",
       "      <td>4.8450</td>\n",
       "    </tr>\n",
       "    <tr>\n",
       "      <th>2020-12-30</th>\n",
       "      <td>4.8450</td>\n",
       "      <td>4.8150</td>\n",
       "    </tr>\n",
       "    <tr>\n",
       "      <th>2020-12-31</th>\n",
       "      <td>4.8125</td>\n",
       "      <td>4.7100</td>\n",
       "    </tr>\n",
       "  </tbody>\n",
       "</table>\n",
       "<p>2518 rows × 2 columns</p>\n",
       "</div>"
      ],
      "text/plain": [
       "            GME_Open  GME_Close\n",
       "Date                           \n",
       "2010-12-31    5.7375     5.7200\n",
       "2011-01-03    5.7675     5.7275\n",
       "2011-01-04    5.7425     5.6250\n",
       "2011-01-05    5.6225     5.4725\n",
       "2011-01-06    5.3225     5.1575\n",
       "...              ...        ...\n",
       "2020-12-24    5.2525     5.0375\n",
       "2020-12-28    5.3275     5.2475\n",
       "2020-12-29    5.2050     4.8450\n",
       "2020-12-30    4.8450     4.8150\n",
       "2020-12-31    4.8125     4.7100\n",
       "\n",
       "[2518 rows x 2 columns]"
      ]
     },
     "execution_count": 6,
     "metadata": {},
     "output_type": "execute_result"
    }
   ],
   "source": [
    "gme=pdr.get_data_yahoo(\"GME\", start=\"2011-01-01\", end=\"2021-01-01\")\n",
    "gme=gme.dropna()\n",
    "gme=gme.loc[:,[\"Open\",\"Close\"]]\n",
    "gme=gme.rename(columns={\"Open\": \"GME_Open\", \"Close\": \"GME_Close\"})\n",
    "gme"
   ]
  },
  {
   "cell_type": "code",
   "execution_count": 7,
   "metadata": {
    "colab": {
     "base_uri": "https://localhost:8080/",
     "height": 472
    },
    "id": "tjR4OZaruLLb",
    "outputId": "0eecfb45-b132-4117-cc0a-9c38ce29cb26"
   },
   "outputs": [
    {
     "name": "stdout",
     "output_type": "stream",
     "text": [
      "[*********************100%***********************]  1 of 1 completed\n"
     ]
    },
    {
     "data": {
      "text/html": [
       "<div>\n",
       "<style scoped>\n",
       "    .dataframe tbody tr th:only-of-type {\n",
       "        vertical-align: middle;\n",
       "    }\n",
       "\n",
       "    .dataframe tbody tr th {\n",
       "        vertical-align: top;\n",
       "    }\n",
       "\n",
       "    .dataframe thead th {\n",
       "        text-align: right;\n",
       "    }\n",
       "</style>\n",
       "<table border=\"1\" class=\"dataframe\">\n",
       "  <thead>\n",
       "    <tr style=\"text-align: right;\">\n",
       "      <th></th>\n",
       "      <th>TGT_Open</th>\n",
       "      <th>TGT_Close</th>\n",
       "    </tr>\n",
       "    <tr>\n",
       "      <th>Date</th>\n",
       "      <th></th>\n",
       "      <th></th>\n",
       "    </tr>\n",
       "  </thead>\n",
       "  <tbody>\n",
       "    <tr>\n",
       "      <th>2010-12-31</th>\n",
       "      <td>59.939999</td>\n",
       "      <td>60.130001</td>\n",
       "    </tr>\n",
       "    <tr>\n",
       "      <th>2011-01-03</th>\n",
       "      <td>60.259998</td>\n",
       "      <td>60.770000</td>\n",
       "    </tr>\n",
       "    <tr>\n",
       "      <th>2011-01-04</th>\n",
       "      <td>60.639999</td>\n",
       "      <td>59.990002</td>\n",
       "    </tr>\n",
       "    <tr>\n",
       "      <th>2011-01-05</th>\n",
       "      <td>59.480000</td>\n",
       "      <td>58.939999</td>\n",
       "    </tr>\n",
       "    <tr>\n",
       "      <th>2011-01-06</th>\n",
       "      <td>55.810001</td>\n",
       "      <td>54.930000</td>\n",
       "    </tr>\n",
       "    <tr>\n",
       "      <th>...</th>\n",
       "      <td>...</td>\n",
       "      <td>...</td>\n",
       "    </tr>\n",
       "    <tr>\n",
       "      <th>2020-12-24</th>\n",
       "      <td>175.979996</td>\n",
       "      <td>175.190002</td>\n",
       "    </tr>\n",
       "    <tr>\n",
       "      <th>2020-12-28</th>\n",
       "      <td>177.110001</td>\n",
       "      <td>176.389999</td>\n",
       "    </tr>\n",
       "    <tr>\n",
       "      <th>2020-12-29</th>\n",
       "      <td>177.110001</td>\n",
       "      <td>175.039993</td>\n",
       "    </tr>\n",
       "    <tr>\n",
       "      <th>2020-12-30</th>\n",
       "      <td>175.699997</td>\n",
       "      <td>173.880005</td>\n",
       "    </tr>\n",
       "    <tr>\n",
       "      <th>2020-12-31</th>\n",
       "      <td>174.410004</td>\n",
       "      <td>176.529999</td>\n",
       "    </tr>\n",
       "  </tbody>\n",
       "</table>\n",
       "<p>2518 rows × 2 columns</p>\n",
       "</div>"
      ],
      "text/plain": [
       "              TGT_Open   TGT_Close\n",
       "Date                              \n",
       "2010-12-31   59.939999   60.130001\n",
       "2011-01-03   60.259998   60.770000\n",
       "2011-01-04   60.639999   59.990002\n",
       "2011-01-05   59.480000   58.939999\n",
       "2011-01-06   55.810001   54.930000\n",
       "...                ...         ...\n",
       "2020-12-24  175.979996  175.190002\n",
       "2020-12-28  177.110001  176.389999\n",
       "2020-12-29  177.110001  175.039993\n",
       "2020-12-30  175.699997  173.880005\n",
       "2020-12-31  174.410004  176.529999\n",
       "\n",
       "[2518 rows x 2 columns]"
      ]
     },
     "execution_count": 7,
     "metadata": {},
     "output_type": "execute_result"
    }
   ],
   "source": [
    "tgt=pdr.get_data_yahoo(\"TGT\", \"2011-01-01\", \"2021-01-01\")\n",
    "tgt=tgt.dropna()\n",
    "tgt=tgt[[\"Open\",\"Close\"]]\n",
    "tgt=tgt.rename(columns={\"Open\": \"TGT_Open\", \"Close\": \"TGT_Close\"})\n",
    "tgt"
   ]
  },
  {
   "cell_type": "code",
   "execution_count": 8,
   "metadata": {
    "colab": {
     "base_uri": "https://localhost:8080/",
     "height": 472
    },
    "id": "s2LFFCjVuP_B",
    "outputId": "be241fa7-a4f7-41b1-af6d-707fafd8b153"
   },
   "outputs": [
    {
     "name": "stdout",
     "output_type": "stream",
     "text": [
      "[*********************100%***********************]  1 of 1 completed\n"
     ]
    },
    {
     "data": {
      "text/html": [
       "<div>\n",
       "<style scoped>\n",
       "    .dataframe tbody tr th:only-of-type {\n",
       "        vertical-align: middle;\n",
       "    }\n",
       "\n",
       "    .dataframe tbody tr th {\n",
       "        vertical-align: top;\n",
       "    }\n",
       "\n",
       "    .dataframe thead th {\n",
       "        text-align: right;\n",
       "    }\n",
       "</style>\n",
       "<table border=\"1\" class=\"dataframe\">\n",
       "  <thead>\n",
       "    <tr style=\"text-align: right;\">\n",
       "      <th></th>\n",
       "      <th>BND_Open</th>\n",
       "      <th>BND_Close</th>\n",
       "    </tr>\n",
       "    <tr>\n",
       "      <th>Date</th>\n",
       "      <th></th>\n",
       "      <th></th>\n",
       "    </tr>\n",
       "  </thead>\n",
       "  <tbody>\n",
       "    <tr>\n",
       "      <th>2010-12-31</th>\n",
       "      <td>80.000000</td>\n",
       "      <td>80.269997</td>\n",
       "    </tr>\n",
       "    <tr>\n",
       "      <th>2011-01-03</th>\n",
       "      <td>80.029999</td>\n",
       "      <td>80.169998</td>\n",
       "    </tr>\n",
       "    <tr>\n",
       "      <th>2011-01-04</th>\n",
       "      <td>80.220001</td>\n",
       "      <td>80.180000</td>\n",
       "    </tr>\n",
       "    <tr>\n",
       "      <th>2011-01-05</th>\n",
       "      <td>79.930000</td>\n",
       "      <td>79.830002</td>\n",
       "    </tr>\n",
       "    <tr>\n",
       "      <th>2011-01-06</th>\n",
       "      <td>79.900002</td>\n",
       "      <td>79.900002</td>\n",
       "    </tr>\n",
       "    <tr>\n",
       "      <th>...</th>\n",
       "      <td>...</td>\n",
       "      <td>...</td>\n",
       "    </tr>\n",
       "    <tr>\n",
       "      <th>2020-12-24</th>\n",
       "      <td>87.989998</td>\n",
       "      <td>88.010002</td>\n",
       "    </tr>\n",
       "    <tr>\n",
       "      <th>2020-12-28</th>\n",
       "      <td>87.940002</td>\n",
       "      <td>87.980003</td>\n",
       "    </tr>\n",
       "    <tr>\n",
       "      <th>2020-12-29</th>\n",
       "      <td>87.949997</td>\n",
       "      <td>88.010002</td>\n",
       "    </tr>\n",
       "    <tr>\n",
       "      <th>2020-12-30</th>\n",
       "      <td>88.029999</td>\n",
       "      <td>88.070000</td>\n",
       "    </tr>\n",
       "    <tr>\n",
       "      <th>2020-12-31</th>\n",
       "      <td>88.110001</td>\n",
       "      <td>88.190002</td>\n",
       "    </tr>\n",
       "  </tbody>\n",
       "</table>\n",
       "<p>2518 rows × 2 columns</p>\n",
       "</div>"
      ],
      "text/plain": [
       "             BND_Open  BND_Close\n",
       "Date                            \n",
       "2010-12-31  80.000000  80.269997\n",
       "2011-01-03  80.029999  80.169998\n",
       "2011-01-04  80.220001  80.180000\n",
       "2011-01-05  79.930000  79.830002\n",
       "2011-01-06  79.900002  79.900002\n",
       "...               ...        ...\n",
       "2020-12-24  87.989998  88.010002\n",
       "2020-12-28  87.940002  87.980003\n",
       "2020-12-29  87.949997  88.010002\n",
       "2020-12-30  88.029999  88.070000\n",
       "2020-12-31  88.110001  88.190002\n",
       "\n",
       "[2518 rows x 2 columns]"
      ]
     },
     "execution_count": 8,
     "metadata": {},
     "output_type": "execute_result"
    }
   ],
   "source": [
    "bnd=pdr.get_data_yahoo(\"BND\", \"2011-01-01\", \"2021-01-01\")\n",
    "bnd=bnd.dropna()\n",
    "bnd=bnd.loc[:,[\"Open\",\"Close\"]]\n",
    "bnd=bnd.rename(columns={\"Open\": \"BND_Open\", \"Close\": \"BND_Close\"})\n",
    "bnd"
   ]
  },
  {
   "cell_type": "code",
   "execution_count": 9,
   "metadata": {
    "colab": {
     "base_uri": "https://localhost:8080/",
     "height": 472
    },
    "id": "uM06y5xluU1q",
    "outputId": "3ae59f22-3cd3-48b0-8236-53ffd7fa48d7"
   },
   "outputs": [
    {
     "name": "stdout",
     "output_type": "stream",
     "text": [
      "[*********************100%***********************]  1 of 1 completed\n"
     ]
    },
    {
     "data": {
      "text/html": [
       "<div>\n",
       "<style scoped>\n",
       "    .dataframe tbody tr th:only-of-type {\n",
       "        vertical-align: middle;\n",
       "    }\n",
       "\n",
       "    .dataframe tbody tr th {\n",
       "        vertical-align: top;\n",
       "    }\n",
       "\n",
       "    .dataframe thead th {\n",
       "        text-align: right;\n",
       "    }\n",
       "</style>\n",
       "<table border=\"1\" class=\"dataframe\">\n",
       "  <thead>\n",
       "    <tr style=\"text-align: right;\">\n",
       "      <th></th>\n",
       "      <th>F_Open</th>\n",
       "      <th>F_Close</th>\n",
       "    </tr>\n",
       "    <tr>\n",
       "      <th>Date</th>\n",
       "      <th></th>\n",
       "      <th></th>\n",
       "    </tr>\n",
       "  </thead>\n",
       "  <tbody>\n",
       "    <tr>\n",
       "      <th>2010-12-31</th>\n",
       "      <td>16.650000</td>\n",
       "      <td>16.790001</td>\n",
       "    </tr>\n",
       "    <tr>\n",
       "      <th>2011-01-03</th>\n",
       "      <td>17.020000</td>\n",
       "      <td>17.250000</td>\n",
       "    </tr>\n",
       "    <tr>\n",
       "      <th>2011-01-04</th>\n",
       "      <td>17.389999</td>\n",
       "      <td>17.379999</td>\n",
       "    </tr>\n",
       "    <tr>\n",
       "      <th>2011-01-05</th>\n",
       "      <td>17.309999</td>\n",
       "      <td>17.889999</td>\n",
       "    </tr>\n",
       "    <tr>\n",
       "      <th>2011-01-06</th>\n",
       "      <td>18.030001</td>\n",
       "      <td>18.219999</td>\n",
       "    </tr>\n",
       "    <tr>\n",
       "      <th>...</th>\n",
       "      <td>...</td>\n",
       "      <td>...</td>\n",
       "    </tr>\n",
       "    <tr>\n",
       "      <th>2020-12-24</th>\n",
       "      <td>9.010000</td>\n",
       "      <td>8.860000</td>\n",
       "    </tr>\n",
       "    <tr>\n",
       "      <th>2020-12-28</th>\n",
       "      <td>8.920000</td>\n",
       "      <td>8.890000</td>\n",
       "    </tr>\n",
       "    <tr>\n",
       "      <th>2020-12-29</th>\n",
       "      <td>8.930000</td>\n",
       "      <td>8.820000</td>\n",
       "    </tr>\n",
       "    <tr>\n",
       "      <th>2020-12-30</th>\n",
       "      <td>8.830000</td>\n",
       "      <td>8.860000</td>\n",
       "    </tr>\n",
       "    <tr>\n",
       "      <th>2020-12-31</th>\n",
       "      <td>8.840000</td>\n",
       "      <td>8.790000</td>\n",
       "    </tr>\n",
       "  </tbody>\n",
       "</table>\n",
       "<p>2518 rows × 2 columns</p>\n",
       "</div>"
      ],
      "text/plain": [
       "               F_Open    F_Close\n",
       "Date                            \n",
       "2010-12-31  16.650000  16.790001\n",
       "2011-01-03  17.020000  17.250000\n",
       "2011-01-04  17.389999  17.379999\n",
       "2011-01-05  17.309999  17.889999\n",
       "2011-01-06  18.030001  18.219999\n",
       "...               ...        ...\n",
       "2020-12-24   9.010000   8.860000\n",
       "2020-12-28   8.920000   8.890000\n",
       "2020-12-29   8.930000   8.820000\n",
       "2020-12-30   8.830000   8.860000\n",
       "2020-12-31   8.840000   8.790000\n",
       "\n",
       "[2518 rows x 2 columns]"
      ]
     },
     "execution_count": 9,
     "metadata": {},
     "output_type": "execute_result"
    }
   ],
   "source": [
    "f=pdr.get_data_yahoo(\"F\", \"2011-01-01\", \"2021-01-01\")\n",
    "f=f.dropna()\n",
    "f=f.loc[:,[\"Open\",\"Close\"]]\n",
    "f=f.rename(columns={\"Open\": \"F_Open\", \"Close\": \"F_Close\"})\n",
    "f"
   ]
  },
  {
   "cell_type": "code",
   "execution_count": 10,
   "metadata": {
    "colab": {
     "base_uri": "https://localhost:8080/",
     "height": 472
    },
    "id": "_se9KND1ufaQ",
    "outputId": "70df8261-1800-4231-ca15-f0a7d94bf561"
   },
   "outputs": [
    {
     "name": "stdout",
     "output_type": "stream",
     "text": [
      "[*********************100%***********************]  1 of 1 completed\n"
     ]
    },
    {
     "data": {
      "text/html": [
       "<div>\n",
       "<style scoped>\n",
       "    .dataframe tbody tr th:only-of-type {\n",
       "        vertical-align: middle;\n",
       "    }\n",
       "\n",
       "    .dataframe tbody tr th {\n",
       "        vertical-align: top;\n",
       "    }\n",
       "\n",
       "    .dataframe thead th {\n",
       "        text-align: right;\n",
       "    }\n",
       "</style>\n",
       "<table border=\"1\" class=\"dataframe\">\n",
       "  <thead>\n",
       "    <tr style=\"text-align: right;\">\n",
       "      <th></th>\n",
       "      <th>SPY_Open</th>\n",
       "      <th>SPY_Close</th>\n",
       "    </tr>\n",
       "    <tr>\n",
       "      <th>Date</th>\n",
       "      <th></th>\n",
       "      <th></th>\n",
       "    </tr>\n",
       "  </thead>\n",
       "  <tbody>\n",
       "    <tr>\n",
       "      <th>2010-12-31</th>\n",
       "      <td>125.529999</td>\n",
       "      <td>125.750000</td>\n",
       "    </tr>\n",
       "    <tr>\n",
       "      <th>2011-01-03</th>\n",
       "      <td>126.709999</td>\n",
       "      <td>127.050003</td>\n",
       "    </tr>\n",
       "    <tr>\n",
       "      <th>2011-01-04</th>\n",
       "      <td>127.330002</td>\n",
       "      <td>126.980003</td>\n",
       "    </tr>\n",
       "    <tr>\n",
       "      <th>2011-01-05</th>\n",
       "      <td>126.580002</td>\n",
       "      <td>127.639999</td>\n",
       "    </tr>\n",
       "    <tr>\n",
       "      <th>2011-01-06</th>\n",
       "      <td>127.690002</td>\n",
       "      <td>127.389999</td>\n",
       "    </tr>\n",
       "    <tr>\n",
       "      <th>...</th>\n",
       "      <td>...</td>\n",
       "      <td>...</td>\n",
       "    </tr>\n",
       "    <tr>\n",
       "      <th>2020-12-24</th>\n",
       "      <td>368.079987</td>\n",
       "      <td>369.000000</td>\n",
       "    </tr>\n",
       "    <tr>\n",
       "      <th>2020-12-28</th>\n",
       "      <td>371.739990</td>\n",
       "      <td>372.170013</td>\n",
       "    </tr>\n",
       "    <tr>\n",
       "      <th>2020-12-29</th>\n",
       "      <td>373.809998</td>\n",
       "      <td>371.459991</td>\n",
       "    </tr>\n",
       "    <tr>\n",
       "      <th>2020-12-30</th>\n",
       "      <td>372.339996</td>\n",
       "      <td>371.989990</td>\n",
       "    </tr>\n",
       "    <tr>\n",
       "      <th>2020-12-31</th>\n",
       "      <td>371.779999</td>\n",
       "      <td>373.880005</td>\n",
       "    </tr>\n",
       "  </tbody>\n",
       "</table>\n",
       "<p>2518 rows × 2 columns</p>\n",
       "</div>"
      ],
      "text/plain": [
       "              SPY_Open   SPY_Close\n",
       "Date                              \n",
       "2010-12-31  125.529999  125.750000\n",
       "2011-01-03  126.709999  127.050003\n",
       "2011-01-04  127.330002  126.980003\n",
       "2011-01-05  126.580002  127.639999\n",
       "2011-01-06  127.690002  127.389999\n",
       "...                ...         ...\n",
       "2020-12-24  368.079987  369.000000\n",
       "2020-12-28  371.739990  372.170013\n",
       "2020-12-29  373.809998  371.459991\n",
       "2020-12-30  372.339996  371.989990\n",
       "2020-12-31  371.779999  373.880005\n",
       "\n",
       "[2518 rows x 2 columns]"
      ]
     },
     "execution_count": 10,
     "metadata": {},
     "output_type": "execute_result"
    }
   ],
   "source": [
    "spy=pdr.get_data_yahoo(\"SPY\", start=\"2011-01-01\", end=\"2021-01-01\")\n",
    "spy=spy.dropna()\n",
    "spy=spy.loc[:,[\"Open\",\"Close\"]]\n",
    "spy=spy.rename(columns={\"Open\": \"SPY_Open\", \"Close\": \"SPY_Close\"})\n",
    "spy"
   ]
  },
  {
   "cell_type": "code",
   "execution_count": null,
   "metadata": {
    "id": "lpImlvYwpZQ-"
   },
   "outputs": [],
   "source": []
  },
  {
   "cell_type": "code",
   "execution_count": 11,
   "metadata": {
    "colab": {
     "base_uri": "https://localhost:8080/",
     "height": 455
    },
    "id": "XNhrKC3R8DdQ",
    "outputId": "048c3f09-1c8c-4cd0-8aaf-aa198dad9e4e"
   },
   "outputs": [
    {
     "data": {
      "text/html": [
       "<div>\n",
       "<style scoped>\n",
       "    .dataframe tbody tr th:only-of-type {\n",
       "        vertical-align: middle;\n",
       "    }\n",
       "\n",
       "    .dataframe tbody tr th {\n",
       "        vertical-align: top;\n",
       "    }\n",
       "\n",
       "    .dataframe thead th {\n",
       "        text-align: right;\n",
       "    }\n",
       "</style>\n",
       "<table border=\"1\" class=\"dataframe\">\n",
       "  <thead>\n",
       "    <tr style=\"text-align: right;\">\n",
       "      <th></th>\n",
       "      <th>GME_Open</th>\n",
       "      <th>GME_Close</th>\n",
       "      <th>TGT_Open</th>\n",
       "      <th>TGT_Close</th>\n",
       "      <th>BND_Open</th>\n",
       "      <th>BND_Close</th>\n",
       "      <th>F_Open</th>\n",
       "      <th>F_Close</th>\n",
       "      <th>SPY_Open</th>\n",
       "      <th>SPY_Close</th>\n",
       "    </tr>\n",
       "    <tr>\n",
       "      <th>Date</th>\n",
       "      <th></th>\n",
       "      <th></th>\n",
       "      <th></th>\n",
       "      <th></th>\n",
       "      <th></th>\n",
       "      <th></th>\n",
       "      <th></th>\n",
       "      <th></th>\n",
       "      <th></th>\n",
       "      <th></th>\n",
       "    </tr>\n",
       "  </thead>\n",
       "  <tbody>\n",
       "    <tr>\n",
       "      <th>2010-12-31</th>\n",
       "      <td>5.7375</td>\n",
       "      <td>5.7200</td>\n",
       "      <td>59.939999</td>\n",
       "      <td>60.130001</td>\n",
       "      <td>80.000000</td>\n",
       "      <td>80.269997</td>\n",
       "      <td>16.650000</td>\n",
       "      <td>16.790001</td>\n",
       "      <td>125.529999</td>\n",
       "      <td>125.750000</td>\n",
       "    </tr>\n",
       "    <tr>\n",
       "      <th>2011-01-03</th>\n",
       "      <td>5.7675</td>\n",
       "      <td>5.7275</td>\n",
       "      <td>60.259998</td>\n",
       "      <td>60.770000</td>\n",
       "      <td>80.029999</td>\n",
       "      <td>80.169998</td>\n",
       "      <td>17.020000</td>\n",
       "      <td>17.250000</td>\n",
       "      <td>126.709999</td>\n",
       "      <td>127.050003</td>\n",
       "    </tr>\n",
       "    <tr>\n",
       "      <th>2011-01-04</th>\n",
       "      <td>5.7425</td>\n",
       "      <td>5.6250</td>\n",
       "      <td>60.639999</td>\n",
       "      <td>59.990002</td>\n",
       "      <td>80.220001</td>\n",
       "      <td>80.180000</td>\n",
       "      <td>17.389999</td>\n",
       "      <td>17.379999</td>\n",
       "      <td>127.330002</td>\n",
       "      <td>126.980003</td>\n",
       "    </tr>\n",
       "    <tr>\n",
       "      <th>2011-01-05</th>\n",
       "      <td>5.6225</td>\n",
       "      <td>5.4725</td>\n",
       "      <td>59.480000</td>\n",
       "      <td>58.939999</td>\n",
       "      <td>79.930000</td>\n",
       "      <td>79.830002</td>\n",
       "      <td>17.309999</td>\n",
       "      <td>17.889999</td>\n",
       "      <td>126.580002</td>\n",
       "      <td>127.639999</td>\n",
       "    </tr>\n",
       "    <tr>\n",
       "      <th>2011-01-06</th>\n",
       "      <td>5.3225</td>\n",
       "      <td>5.1575</td>\n",
       "      <td>55.810001</td>\n",
       "      <td>54.930000</td>\n",
       "      <td>79.900002</td>\n",
       "      <td>79.900002</td>\n",
       "      <td>18.030001</td>\n",
       "      <td>18.219999</td>\n",
       "      <td>127.690002</td>\n",
       "      <td>127.389999</td>\n",
       "    </tr>\n",
       "    <tr>\n",
       "      <th>...</th>\n",
       "      <td>...</td>\n",
       "      <td>...</td>\n",
       "      <td>...</td>\n",
       "      <td>...</td>\n",
       "      <td>...</td>\n",
       "      <td>...</td>\n",
       "      <td>...</td>\n",
       "      <td>...</td>\n",
       "      <td>...</td>\n",
       "      <td>...</td>\n",
       "    </tr>\n",
       "    <tr>\n",
       "      <th>2020-12-24</th>\n",
       "      <td>5.2525</td>\n",
       "      <td>5.0375</td>\n",
       "      <td>175.979996</td>\n",
       "      <td>175.190002</td>\n",
       "      <td>87.989998</td>\n",
       "      <td>88.010002</td>\n",
       "      <td>9.010000</td>\n",
       "      <td>8.860000</td>\n",
       "      <td>368.079987</td>\n",
       "      <td>369.000000</td>\n",
       "    </tr>\n",
       "    <tr>\n",
       "      <th>2020-12-28</th>\n",
       "      <td>5.3275</td>\n",
       "      <td>5.2475</td>\n",
       "      <td>177.110001</td>\n",
       "      <td>176.389999</td>\n",
       "      <td>87.940002</td>\n",
       "      <td>87.980003</td>\n",
       "      <td>8.920000</td>\n",
       "      <td>8.890000</td>\n",
       "      <td>371.739990</td>\n",
       "      <td>372.170013</td>\n",
       "    </tr>\n",
       "    <tr>\n",
       "      <th>2020-12-29</th>\n",
       "      <td>5.2050</td>\n",
       "      <td>4.8450</td>\n",
       "      <td>177.110001</td>\n",
       "      <td>175.039993</td>\n",
       "      <td>87.949997</td>\n",
       "      <td>88.010002</td>\n",
       "      <td>8.930000</td>\n",
       "      <td>8.820000</td>\n",
       "      <td>373.809998</td>\n",
       "      <td>371.459991</td>\n",
       "    </tr>\n",
       "    <tr>\n",
       "      <th>2020-12-30</th>\n",
       "      <td>4.8450</td>\n",
       "      <td>4.8150</td>\n",
       "      <td>175.699997</td>\n",
       "      <td>173.880005</td>\n",
       "      <td>88.029999</td>\n",
       "      <td>88.070000</td>\n",
       "      <td>8.830000</td>\n",
       "      <td>8.860000</td>\n",
       "      <td>372.339996</td>\n",
       "      <td>371.989990</td>\n",
       "    </tr>\n",
       "    <tr>\n",
       "      <th>2020-12-31</th>\n",
       "      <td>4.8125</td>\n",
       "      <td>4.7100</td>\n",
       "      <td>174.410004</td>\n",
       "      <td>176.529999</td>\n",
       "      <td>88.110001</td>\n",
       "      <td>88.190002</td>\n",
       "      <td>8.840000</td>\n",
       "      <td>8.790000</td>\n",
       "      <td>371.779999</td>\n",
       "      <td>373.880005</td>\n",
       "    </tr>\n",
       "  </tbody>\n",
       "</table>\n",
       "<p>2518 rows × 10 columns</p>\n",
       "</div>"
      ],
      "text/plain": [
       "            GME_Open  GME_Close    TGT_Open   TGT_Close   BND_Open  BND_Close  \\\n",
       "Date                                                                            \n",
       "2010-12-31    5.7375     5.7200   59.939999   60.130001  80.000000  80.269997   \n",
       "2011-01-03    5.7675     5.7275   60.259998   60.770000  80.029999  80.169998   \n",
       "2011-01-04    5.7425     5.6250   60.639999   59.990002  80.220001  80.180000   \n",
       "2011-01-05    5.6225     5.4725   59.480000   58.939999  79.930000  79.830002   \n",
       "2011-01-06    5.3225     5.1575   55.810001   54.930000  79.900002  79.900002   \n",
       "...              ...        ...         ...         ...        ...        ...   \n",
       "2020-12-24    5.2525     5.0375  175.979996  175.190002  87.989998  88.010002   \n",
       "2020-12-28    5.3275     5.2475  177.110001  176.389999  87.940002  87.980003   \n",
       "2020-12-29    5.2050     4.8450  177.110001  175.039993  87.949997  88.010002   \n",
       "2020-12-30    4.8450     4.8150  175.699997  173.880005  88.029999  88.070000   \n",
       "2020-12-31    4.8125     4.7100  174.410004  176.529999  88.110001  88.190002   \n",
       "\n",
       "               F_Open    F_Close    SPY_Open   SPY_Close  \n",
       "Date                                                      \n",
       "2010-12-31  16.650000  16.790001  125.529999  125.750000  \n",
       "2011-01-03  17.020000  17.250000  126.709999  127.050003  \n",
       "2011-01-04  17.389999  17.379999  127.330002  126.980003  \n",
       "2011-01-05  17.309999  17.889999  126.580002  127.639999  \n",
       "2011-01-06  18.030001  18.219999  127.690002  127.389999  \n",
       "...               ...        ...         ...         ...  \n",
       "2020-12-24   9.010000   8.860000  368.079987  369.000000  \n",
       "2020-12-28   8.920000   8.890000  371.739990  372.170013  \n",
       "2020-12-29   8.930000   8.820000  373.809998  371.459991  \n",
       "2020-12-30   8.830000   8.860000  372.339996  371.989990  \n",
       "2020-12-31   8.840000   8.790000  371.779999  373.880005  \n",
       "\n",
       "[2518 rows x 10 columns]"
      ]
     },
     "execution_count": 11,
     "metadata": {},
     "output_type": "execute_result"
    }
   ],
   "source": [
    "df=pd.concat([gme, tgt, bnd, f, spy], axis=1)\n",
    "df"
   ]
  },
  {
   "cell_type": "code",
   "execution_count": 12,
   "metadata": {
    "colab": {
     "base_uri": "https://localhost:8080/"
    },
    "id": "LHBOwoXs9cMe",
    "outputId": "0cbe0933-a65b-4816-e5be-8321d2c144b4"
   },
   "outputs": [
    {
     "name": "stdout",
     "output_type": "stream",
     "text": [
      "[*********************100%***********************]  1 of 1 completed\n",
      "[*********************100%***********************]  1 of 1 completed\n",
      "[*********************100%***********************]  1 of 1 completed\n",
      "[*********************100%***********************]  1 of 1 completed\n",
      "[*********************100%***********************]  1 of 1 completed\n"
     ]
    }
   ],
   "source": [
    "start=datetime.datetime(2011,1,1)\n",
    "end=datetime.datetime(2021,1,1)\n",
    "\n",
    "gme=pdr.get_data_yahoo(\"GME\",start,end)[[\"Open\",\"Close\"]].rename(columns={'Open':'GME_Open','Close':'GME_Close'})\n",
    "tgt=pdr.get_data_yahoo(\"TGT\",start,end)[[\"Open\",\"Close\"]].rename(columns={'Open':'TGT_Open','Close':'TGT_Close'})\n",
    "bnd=pdr.get_data_yahoo(\"BND\",start,end)[[\"Open\",\"Close\"]].rename(columns={'Open':'BND_Open','Close':'BND_Close'})\n",
    "f=pdr.get_data_yahoo(\"F\",start,end)[[\"Open\",\"Close\"]].rename(columns={'Open':'F_Open','Close':'F_Close'})\n",
    "spy=pdr.get_data_yahoo(\"SPY\",start,end)[[\"Open\",\"Close\"]].rename(columns={'Open':'SPY_Open','Close':'SPY_Close'})\n"
   ]
  },
  {
   "cell_type": "code",
   "execution_count": 13,
   "metadata": {
    "id": "MTMN3IUIwDKQ"
   },
   "outputs": [],
   "source": [
    "st=gme.merge(tgt,on='Date').merge(bnd,on='Date').merge(f,on='Date').merge(spy,on='Date')"
   ]
  },
  {
   "cell_type": "code",
   "execution_count": 14,
   "metadata": {
    "colab": {
     "base_uri": "https://localhost:8080/",
     "height": 455
    },
    "id": "KrjX6Js7xunj",
    "outputId": "599c155d-118b-4c81-839a-5a394b43537f"
   },
   "outputs": [
    {
     "data": {
      "text/html": [
       "<div>\n",
       "<style scoped>\n",
       "    .dataframe tbody tr th:only-of-type {\n",
       "        vertical-align: middle;\n",
       "    }\n",
       "\n",
       "    .dataframe tbody tr th {\n",
       "        vertical-align: top;\n",
       "    }\n",
       "\n",
       "    .dataframe thead th {\n",
       "        text-align: right;\n",
       "    }\n",
       "</style>\n",
       "<table border=\"1\" class=\"dataframe\">\n",
       "  <thead>\n",
       "    <tr style=\"text-align: right;\">\n",
       "      <th></th>\n",
       "      <th>GME_Open</th>\n",
       "      <th>GME_Close</th>\n",
       "      <th>TGT_Open</th>\n",
       "      <th>TGT_Close</th>\n",
       "      <th>BND_Open</th>\n",
       "      <th>BND_Close</th>\n",
       "      <th>F_Open</th>\n",
       "      <th>F_Close</th>\n",
       "      <th>SPY_Open</th>\n",
       "      <th>SPY_Close</th>\n",
       "    </tr>\n",
       "    <tr>\n",
       "      <th>Date</th>\n",
       "      <th></th>\n",
       "      <th></th>\n",
       "      <th></th>\n",
       "      <th></th>\n",
       "      <th></th>\n",
       "      <th></th>\n",
       "      <th></th>\n",
       "      <th></th>\n",
       "      <th></th>\n",
       "      <th></th>\n",
       "    </tr>\n",
       "  </thead>\n",
       "  <tbody>\n",
       "    <tr>\n",
       "      <th>2010-12-31</th>\n",
       "      <td>5.7375</td>\n",
       "      <td>5.7200</td>\n",
       "      <td>59.939999</td>\n",
       "      <td>60.130001</td>\n",
       "      <td>80.000000</td>\n",
       "      <td>80.269997</td>\n",
       "      <td>16.650000</td>\n",
       "      <td>16.790001</td>\n",
       "      <td>125.529999</td>\n",
       "      <td>125.750000</td>\n",
       "    </tr>\n",
       "    <tr>\n",
       "      <th>2011-01-03</th>\n",
       "      <td>5.7675</td>\n",
       "      <td>5.7275</td>\n",
       "      <td>60.259998</td>\n",
       "      <td>60.770000</td>\n",
       "      <td>80.029999</td>\n",
       "      <td>80.169998</td>\n",
       "      <td>17.020000</td>\n",
       "      <td>17.250000</td>\n",
       "      <td>126.709999</td>\n",
       "      <td>127.050003</td>\n",
       "    </tr>\n",
       "    <tr>\n",
       "      <th>2011-01-04</th>\n",
       "      <td>5.7425</td>\n",
       "      <td>5.6250</td>\n",
       "      <td>60.639999</td>\n",
       "      <td>59.990002</td>\n",
       "      <td>80.220001</td>\n",
       "      <td>80.180000</td>\n",
       "      <td>17.389999</td>\n",
       "      <td>17.379999</td>\n",
       "      <td>127.330002</td>\n",
       "      <td>126.980003</td>\n",
       "    </tr>\n",
       "    <tr>\n",
       "      <th>2011-01-05</th>\n",
       "      <td>5.6225</td>\n",
       "      <td>5.4725</td>\n",
       "      <td>59.480000</td>\n",
       "      <td>58.939999</td>\n",
       "      <td>79.930000</td>\n",
       "      <td>79.830002</td>\n",
       "      <td>17.309999</td>\n",
       "      <td>17.889999</td>\n",
       "      <td>126.580002</td>\n",
       "      <td>127.639999</td>\n",
       "    </tr>\n",
       "    <tr>\n",
       "      <th>2011-01-06</th>\n",
       "      <td>5.3225</td>\n",
       "      <td>5.1575</td>\n",
       "      <td>55.810001</td>\n",
       "      <td>54.930000</td>\n",
       "      <td>79.900002</td>\n",
       "      <td>79.900002</td>\n",
       "      <td>18.030001</td>\n",
       "      <td>18.219999</td>\n",
       "      <td>127.690002</td>\n",
       "      <td>127.389999</td>\n",
       "    </tr>\n",
       "    <tr>\n",
       "      <th>...</th>\n",
       "      <td>...</td>\n",
       "      <td>...</td>\n",
       "      <td>...</td>\n",
       "      <td>...</td>\n",
       "      <td>...</td>\n",
       "      <td>...</td>\n",
       "      <td>...</td>\n",
       "      <td>...</td>\n",
       "      <td>...</td>\n",
       "      <td>...</td>\n",
       "    </tr>\n",
       "    <tr>\n",
       "      <th>2020-12-24</th>\n",
       "      <td>5.2525</td>\n",
       "      <td>5.0375</td>\n",
       "      <td>175.979996</td>\n",
       "      <td>175.190002</td>\n",
       "      <td>87.989998</td>\n",
       "      <td>88.010002</td>\n",
       "      <td>9.010000</td>\n",
       "      <td>8.860000</td>\n",
       "      <td>368.079987</td>\n",
       "      <td>369.000000</td>\n",
       "    </tr>\n",
       "    <tr>\n",
       "      <th>2020-12-28</th>\n",
       "      <td>5.3275</td>\n",
       "      <td>5.2475</td>\n",
       "      <td>177.110001</td>\n",
       "      <td>176.389999</td>\n",
       "      <td>87.940002</td>\n",
       "      <td>87.980003</td>\n",
       "      <td>8.920000</td>\n",
       "      <td>8.890000</td>\n",
       "      <td>371.739990</td>\n",
       "      <td>372.170013</td>\n",
       "    </tr>\n",
       "    <tr>\n",
       "      <th>2020-12-29</th>\n",
       "      <td>5.2050</td>\n",
       "      <td>4.8450</td>\n",
       "      <td>177.110001</td>\n",
       "      <td>175.039993</td>\n",
       "      <td>87.949997</td>\n",
       "      <td>88.010002</td>\n",
       "      <td>8.930000</td>\n",
       "      <td>8.820000</td>\n",
       "      <td>373.809998</td>\n",
       "      <td>371.459991</td>\n",
       "    </tr>\n",
       "    <tr>\n",
       "      <th>2020-12-30</th>\n",
       "      <td>4.8450</td>\n",
       "      <td>4.8150</td>\n",
       "      <td>175.699997</td>\n",
       "      <td>173.880005</td>\n",
       "      <td>88.029999</td>\n",
       "      <td>88.070000</td>\n",
       "      <td>8.830000</td>\n",
       "      <td>8.860000</td>\n",
       "      <td>372.339996</td>\n",
       "      <td>371.989990</td>\n",
       "    </tr>\n",
       "    <tr>\n",
       "      <th>2020-12-31</th>\n",
       "      <td>4.8125</td>\n",
       "      <td>4.7100</td>\n",
       "      <td>174.410004</td>\n",
       "      <td>176.529999</td>\n",
       "      <td>88.110001</td>\n",
       "      <td>88.190002</td>\n",
       "      <td>8.840000</td>\n",
       "      <td>8.790000</td>\n",
       "      <td>371.779999</td>\n",
       "      <td>373.880005</td>\n",
       "    </tr>\n",
       "  </tbody>\n",
       "</table>\n",
       "<p>2518 rows × 10 columns</p>\n",
       "</div>"
      ],
      "text/plain": [
       "            GME_Open  GME_Close    TGT_Open   TGT_Close   BND_Open  BND_Close  \\\n",
       "Date                                                                            \n",
       "2010-12-31    5.7375     5.7200   59.939999   60.130001  80.000000  80.269997   \n",
       "2011-01-03    5.7675     5.7275   60.259998   60.770000  80.029999  80.169998   \n",
       "2011-01-04    5.7425     5.6250   60.639999   59.990002  80.220001  80.180000   \n",
       "2011-01-05    5.6225     5.4725   59.480000   58.939999  79.930000  79.830002   \n",
       "2011-01-06    5.3225     5.1575   55.810001   54.930000  79.900002  79.900002   \n",
       "...              ...        ...         ...         ...        ...        ...   \n",
       "2020-12-24    5.2525     5.0375  175.979996  175.190002  87.989998  88.010002   \n",
       "2020-12-28    5.3275     5.2475  177.110001  176.389999  87.940002  87.980003   \n",
       "2020-12-29    5.2050     4.8450  177.110001  175.039993  87.949997  88.010002   \n",
       "2020-12-30    4.8450     4.8150  175.699997  173.880005  88.029999  88.070000   \n",
       "2020-12-31    4.8125     4.7100  174.410004  176.529999  88.110001  88.190002   \n",
       "\n",
       "               F_Open    F_Close    SPY_Open   SPY_Close  \n",
       "Date                                                      \n",
       "2010-12-31  16.650000  16.790001  125.529999  125.750000  \n",
       "2011-01-03  17.020000  17.250000  126.709999  127.050003  \n",
       "2011-01-04  17.389999  17.379999  127.330002  126.980003  \n",
       "2011-01-05  17.309999  17.889999  126.580002  127.639999  \n",
       "2011-01-06  18.030001  18.219999  127.690002  127.389999  \n",
       "...               ...        ...         ...         ...  \n",
       "2020-12-24   9.010000   8.860000  368.079987  369.000000  \n",
       "2020-12-28   8.920000   8.890000  371.739990  372.170013  \n",
       "2020-12-29   8.930000   8.820000  373.809998  371.459991  \n",
       "2020-12-30   8.830000   8.860000  372.339996  371.989990  \n",
       "2020-12-31   8.840000   8.790000  371.779999  373.880005  \n",
       "\n",
       "[2518 rows x 10 columns]"
      ]
     },
     "execution_count": 14,
     "metadata": {},
     "output_type": "execute_result"
    }
   ],
   "source": [
    "st=st.dropna()\n",
    "st"
   ]
  },
  {
   "cell_type": "code",
   "execution_count": 15,
   "metadata": {
    "colab": {
     "base_uri": "https://localhost:8080/",
     "height": 455
    },
    "id": "YrLP6_7lPA8Y",
    "outputId": "7f22111e-128f-4ad9-9532-be19bd49e420"
   },
   "outputs": [
    {
     "data": {
      "text/html": [
       "<div>\n",
       "<style scoped>\n",
       "    .dataframe tbody tr th:only-of-type {\n",
       "        vertical-align: middle;\n",
       "    }\n",
       "\n",
       "    .dataframe tbody tr th {\n",
       "        vertical-align: top;\n",
       "    }\n",
       "\n",
       "    .dataframe thead th {\n",
       "        text-align: right;\n",
       "    }\n",
       "</style>\n",
       "<table border=\"1\" class=\"dataframe\">\n",
       "  <thead>\n",
       "    <tr style=\"text-align: right;\">\n",
       "      <th></th>\n",
       "      <th>Return_GME</th>\n",
       "      <th>Return_TGT</th>\n",
       "      <th>Return_F</th>\n",
       "      <th>Return_SPY</th>\n",
       "      <th>Return_BND</th>\n",
       "    </tr>\n",
       "    <tr>\n",
       "      <th>Date</th>\n",
       "      <th></th>\n",
       "      <th></th>\n",
       "      <th></th>\n",
       "      <th></th>\n",
       "      <th></th>\n",
       "    </tr>\n",
       "  </thead>\n",
       "  <tbody>\n",
       "    <tr>\n",
       "      <th>2011-01-04</th>\n",
       "      <td>-0.017896</td>\n",
       "      <td>-0.012835</td>\n",
       "      <td>0.000125</td>\n",
       "      <td>0.007536</td>\n",
       "      <td>-0.000551</td>\n",
       "    </tr>\n",
       "    <tr>\n",
       "      <th>2011-01-05</th>\n",
       "      <td>-0.027111</td>\n",
       "      <td>-0.017503</td>\n",
       "      <td>-0.004365</td>\n",
       "      <td>0.029344</td>\n",
       "      <td>0.005198</td>\n",
       "    </tr>\n",
       "    <tr>\n",
       "      <th>2011-01-06</th>\n",
       "      <td>-0.057561</td>\n",
       "      <td>-0.068035</td>\n",
       "      <td>0.000877</td>\n",
       "      <td>0.018446</td>\n",
       "      <td>-0.001959</td>\n",
       "    </tr>\n",
       "    <tr>\n",
       "      <th>2011-01-07</th>\n",
       "      <td>0.006786</td>\n",
       "      <td>0.002185</td>\n",
       "      <td>0.003755</td>\n",
       "      <td>0.002744</td>\n",
       "      <td>-0.001962</td>\n",
       "    </tr>\n",
       "    <tr>\n",
       "      <th>2011-01-10</th>\n",
       "      <td>-0.003370</td>\n",
       "      <td>0.003088</td>\n",
       "      <td>0.002369</td>\n",
       "      <td>0.002189</td>\n",
       "      <td>-0.001258</td>\n",
       "    </tr>\n",
       "    <tr>\n",
       "      <th>...</th>\n",
       "      <td>...</td>\n",
       "      <td>...</td>\n",
       "      <td>...</td>\n",
       "      <td>...</td>\n",
       "      <td>...</td>\n",
       "    </tr>\n",
       "    <tr>\n",
       "      <th>2013-12-24</th>\n",
       "      <td>0.008907</td>\n",
       "      <td>-0.002747</td>\n",
       "      <td>-0.005094</td>\n",
       "      <td>0.002640</td>\n",
       "      <td>0.002191</td>\n",
       "    </tr>\n",
       "    <tr>\n",
       "      <th>2013-12-26</th>\n",
       "      <td>-0.011968</td>\n",
       "      <td>0.012478</td>\n",
       "      <td>-0.001499</td>\n",
       "      <td>0.009217</td>\n",
       "      <td>0.005084</td>\n",
       "    </tr>\n",
       "    <tr>\n",
       "      <th>2013-12-27</th>\n",
       "      <td>-0.026211</td>\n",
       "      <td>-0.005282</td>\n",
       "      <td>0.000000</td>\n",
       "      <td>-0.001957</td>\n",
       "      <td>-0.000054</td>\n",
       "    </tr>\n",
       "    <tr>\n",
       "      <th>2013-12-30</th>\n",
       "      <td>0.004690</td>\n",
       "      <td>0.005149</td>\n",
       "      <td>0.001626</td>\n",
       "      <td>-0.001307</td>\n",
       "      <td>-0.000163</td>\n",
       "    </tr>\n",
       "    <tr>\n",
       "      <th>2013-12-31</th>\n",
       "      <td>-0.000203</td>\n",
       "      <td>0.012806</td>\n",
       "      <td>-0.000375</td>\n",
       "      <td>0.009817</td>\n",
       "      <td>0.004733</td>\n",
       "    </tr>\n",
       "  </tbody>\n",
       "</table>\n",
       "<p>753 rows × 5 columns</p>\n",
       "</div>"
      ],
      "text/plain": [
       "            Return_GME  Return_TGT  Return_F  Return_SPY  Return_BND\n",
       "Date                                                                \n",
       "2011-01-04   -0.017896   -0.012835  0.000125    0.007536   -0.000551\n",
       "2011-01-05   -0.027111   -0.017503 -0.004365    0.029344    0.005198\n",
       "2011-01-06   -0.057561   -0.068035  0.000877    0.018446   -0.001959\n",
       "2011-01-07    0.006786    0.002185  0.003755    0.002744   -0.001962\n",
       "2011-01-10   -0.003370    0.003088  0.002369    0.002189   -0.001258\n",
       "...                ...         ...       ...         ...         ...\n",
       "2013-12-24    0.008907   -0.002747 -0.005094    0.002640    0.002191\n",
       "2013-12-26   -0.011968    0.012478 -0.001499    0.009217    0.005084\n",
       "2013-12-27   -0.026211   -0.005282  0.000000   -0.001957   -0.000054\n",
       "2013-12-30    0.004690    0.005149  0.001626   -0.001307   -0.000163\n",
       "2013-12-31   -0.000203    0.012806 -0.000375    0.009817    0.004733\n",
       "\n",
       "[753 rows x 5 columns]"
      ]
     },
     "execution_count": 15,
     "metadata": {},
     "output_type": "execute_result"
    }
   ],
   "source": [
    "df_years_3=st.loc[\"2011\":\"2013\",[\"GME_Close\",\"TGT_Close\",\"BND_Close\",\"F_Close\",\"SPY_Close\"]]\n",
    "df_years_3[['Return_GME','Return_TGT','Return_F','Return_SPY','Return_BND']]=df_years_3[[\"GME_Close\",\"TGT_Close\",\"BND_Close\",\"F_Close\",\"SPY_Close\"]]\n",
    "df_years_3=df_years_3[['Return_GME','Return_TGT','Return_F','Return_SPY','Return_BND']].pct_change()\n",
    "df_years_3=df_years_3.dropna()\n",
    "df_years_3"
   ]
  },
  {
   "cell_type": "code",
   "execution_count": 16,
   "metadata": {
    "id": "M8hXWunOBu4P"
   },
   "outputs": [],
   "source": [
    "matrix_of_return_values = np.asmatrix(df_years_3)\n",
    "matrix_of_return_values=df_years_3.values.T\n",
    "\n",
    "no_of_portfolios=10000\n",
    "no_of_asset_classes=5\n",
    "np.random.seed(123)\n",
    "matrix_of_return_values = np.random.randn(no_of_portfolios,no_of_asset_classes)\n",
    "\n",
    "collection_of_random_asset_weights = []\n",
    "portfolio_means = []\n",
    "portfolio_standard_deviations = []\n",
    "portfolio_sharpe_ratios = []"
   ]
  },
  {
   "cell_type": "code",
   "execution_count": 17,
   "metadata": {
    "id": "yn_X7NXZA2Tg"
   },
   "outputs": [],
   "source": [
    "def get_random_asset_weights(no_of_asset_classes):\n",
    "    random_asset_weights = np.random.rand(no_of_asset_classes)\n",
    "    random_asset_weights = random_asset_weights / random_asset_weights.sum()\n",
    "   \n",
    "    return np.asmatrix (random_asset_weights)"
   ]
  },
  {
   "cell_type": "code",
   "execution_count": 18,
   "metadata": {
    "id": "lM3B8jFuBDMU"
   },
   "outputs": [],
   "source": [
    "def get_portfolio_statistics(asset_weights, matrix_of_return_values):\n",
    "    asset_means = np.mean(matrix_of_return_values, axis = 0)\n",
    "    asset_covariances = np.cov(matrix_of_return_values.T)\n",
    "    portfolio_mean = np.dot(asset_weights, asset_means)\n",
    "    #portfolio_mean = #todo second line if needed.\n",
    "    portfolio_standard_deviation = np.sqrt(asset_weights * asset_covariances * asset_weights.T)\n",
    "    #portfolio_standard_deviation = #todo second line if needed.\n",
    "    portfolio_sharpe_ratio = portfolio_mean / portfolio_standard_deviation \n",
    "    return portfolio_mean, portfolio_standard_deviation, portfolio_sharpe_ratio"
   ]
  },
  {
   "cell_type": "code",
   "execution_count": 19,
   "metadata": {
    "id": "bMHhxoffBNls"
   },
   "outputs": [],
   "source": [
    "while len(collection_of_random_asset_weights)< no_of_portfolios:\n",
    "    random_asset_weights = get_random_asset_weights (no_of_asset_classes=no_of_asset_classes)\n",
    "    collection_of_random_asset_weights.append(random_asset_weights) \n",
    "    m,sd,sr = get_portfolio_statistics(random_asset_weights, matrix_of_return_values)\n",
    "    portfolio_means.append(m.item())\n",
    "    portfolio_standard_deviations.append(sd.item())\n",
    "    portfolio_sharpe_ratios.append(sr.item())"
   ]
  },
  {
   "cell_type": "code",
   "execution_count": 20,
   "metadata": {
    "colab": {
     "base_uri": "https://localhost:8080/",
     "height": 265
    },
    "id": "M-GblrsMfo9w",
    "outputId": "d38db234-6f25-41a5-bda1-436c604d994d"
   },
   "outputs": [
    {
     "data": {
      "image/png": "[encoded data removed]",
      "text/plain": [
       "<Figure size 432x288 with 1 Axes>"
      ]
     },
     "metadata": {
      "needs_background": "light"
     },
     "output_type": "display_data"
    }
   ],
   "source": [
    "plt.plot(portfolio_standard_deviations, portfolio_means,'o', markersize = 3, color = 'lightskyblue') \n",
    "plt.show()"
   ]
  },
  {
   "cell_type": "code",
   "execution_count": 21,
   "metadata": {
    "colab": {
     "base_uri": "https://localhost:8080/"
    },
    "id": "7KqsQveHAChq",
    "outputId": "aef61976-6677-41f4-8bf0-2f12328ec524"
   },
   "outputs": [
    {
     "data": {
      "text/plain": [
       "8984"
      ]
     },
     "execution_count": 21,
     "metadata": {},
     "output_type": "execute_result"
    }
   ],
   "source": [
    "index =np.argmax(portfolio_sharpe_ratios)\n",
    "index"
   ]
  },
  {
   "cell_type": "code",
   "execution_count": 22,
   "metadata": {
    "colab": {
     "base_uri": "https://localhost:8080/"
    },
    "id": "ZuT8jvPlE66f",
    "outputId": "c46ea418-e719-4295-95de-ff44ee82e970"
   },
   "outputs": [
    {
     "name": "stdout",
     "output_type": "stream",
     "text": [
      "[[0.11256255 0.49712556 0.02730961 0.01981804 0.34318424]]\n",
      "0.026519119520617\n"
     ]
    }
   ],
   "source": [
    "print(collection_of_random_asset_weights[index])\n",
    "print(portfolio_sharpe_ratios[index])"
   ]
  },
  {
   "cell_type": "code",
   "execution_count": 23,
   "metadata": {},
   "outputs": [
    {
     "data": {
      "image/png": "[encoded data removed]",
      "text/plain": [
       "<Figure size 432x288 with 1 Axes>"
      ]
     },
     "metadata": {
      "needs_background": "light"
     },
     "output_type": "display_data"
    }
   ],
   "source": [
    "x = np.linspace(0, max(portfolio_standard_deviations), 10000)\n",
    "y = portfolio_sharpe_ratios[index] * x\n",
    "plt.plot(portfolio_standard_deviations, portfolio_means, 'o', markersize = 3, color = 'lightskyblue')\n",
    "plt.plot(x, y, '-', linewidth = 2, color = 'green')\n",
    "plt.plot(portfolio_standard_deviations[index],portfolio_means[index],color=\"red\",marker=\"*\",markersize = 15)\n",
    "plt.show()"
   ]
  },
  {
   "cell_type": "markdown",
   "metadata": {
    "id": "-y4H_0l6o7ps"
   },
   "source": []
  },
  {
   "cell_type": "code",
   "execution_count": 24,
   "metadata": {
    "colab": {
     "base_uri": "https://localhost:8080/",
     "height": 81
    },
    "id": "6RnrB9sFFwGn",
    "outputId": "779fe958-f7fe-4e4a-da5a-cbf6ef47b39e"
   },
   "outputs": [
    {
     "data": {
      "text/html": [
       "<div>\n",
       "<style scoped>\n",
       "    .dataframe tbody tr th:only-of-type {\n",
       "        vertical-align: middle;\n",
       "    }\n",
       "\n",
       "    .dataframe tbody tr th {\n",
       "        vertical-align: top;\n",
       "    }\n",
       "\n",
       "    .dataframe thead th {\n",
       "        text-align: right;\n",
       "    }\n",
       "</style>\n",
       "<table border=\"1\" class=\"dataframe\">\n",
       "  <thead>\n",
       "    <tr style=\"text-align: right;\">\n",
       "      <th></th>\n",
       "      <th>Return_GME</th>\n",
       "      <th>Return_TGT</th>\n",
       "      <th>Return_F</th>\n",
       "      <th>Return_SPY</th>\n",
       "      <th>Return_BND</th>\n",
       "    </tr>\n",
       "  </thead>\n",
       "  <tbody>\n",
       "    <tr>\n",
       "      <th>2013-12-31</th>\n",
       "      <td>0.112563</td>\n",
       "      <td>0.497126</td>\n",
       "      <td>0.02731</td>\n",
       "      <td>0.019818</td>\n",
       "      <td>0.343184</td>\n",
       "    </tr>\n",
       "  </tbody>\n",
       "</table>\n",
       "</div>"
      ],
      "text/plain": [
       "            Return_GME  Return_TGT  Return_F  Return_SPY  Return_BND\n",
       "2013-12-31    0.112563    0.497126   0.02731    0.019818    0.343184"
      ]
     },
     "execution_count": 24,
     "metadata": {},
     "output_type": "execute_result"
    }
   ],
   "source": [
    "data=pd.DataFrame()\n",
    "data.loc[df_years_3.index[-1],df_years_3.columns]=collection_of_random_asset_weights[index]\n",
    "data.rename(columns={})"
   ]
  },
  {
   "cell_type": "code",
   "execution_count": 25,
   "metadata": {},
   "outputs": [
    {
     "data": {
      "text/html": [
       "<div>\n",
       "<style scoped>\n",
       "    .dataframe tbody tr th:only-of-type {\n",
       "        vertical-align: middle;\n",
       "    }\n",
       "\n",
       "    .dataframe tbody tr th {\n",
       "        vertical-align: top;\n",
       "    }\n",
       "\n",
       "    .dataframe thead th {\n",
       "        text-align: right;\n",
       "    }\n",
       "</style>\n",
       "<table border=\"1\" class=\"dataframe\">\n",
       "  <thead>\n",
       "    <tr style=\"text-align: right;\">\n",
       "      <th></th>\n",
       "      <th>GME</th>\n",
       "      <th>TGT</th>\n",
       "      <th>BND</th>\n",
       "      <th>F</th>\n",
       "      <th>SPY</th>\n",
       "    </tr>\n",
       "  </thead>\n",
       "  <tbody>\n",
       "    <tr>\n",
       "      <th>2013-12-31</th>\n",
       "      <td>0.234324</td>\n",
       "      <td>0.032973</td>\n",
       "      <td>0.474916</td>\n",
       "      <td>0.001196</td>\n",
       "      <td>0.256592</td>\n",
       "    </tr>\n",
       "  </tbody>\n",
       "</table>\n",
       "</div>"
      ],
      "text/plain": [
       "                 GME       TGT       BND         F       SPY\n",
       "2013-12-31  0.234324  0.032973  0.474916  0.001196  0.256592"
      ]
     },
     "execution_count": 25,
     "metadata": {},
     "output_type": "execute_result"
    }
   ],
   "source": [
    "some_weights = pd.DataFrame({\"GME\": [0.234324], \"TGT\": [0.032973], \"BND\": [0.474916], \"F\": [0.001196], \"SPY\": [0.256592]}, index = [df_years_3.last_valid_index()])\n",
    "some_weights"
   ]
  },
  {
   "cell_type": "code",
   "execution_count": 26,
   "metadata": {},
   "outputs": [
    {
     "data": {
      "text/html": [
       "<div>\n",
       "<style scoped>\n",
       "    .dataframe tbody tr th:only-of-type {\n",
       "        vertical-align: middle;\n",
       "    }\n",
       "\n",
       "    .dataframe tbody tr th {\n",
       "        vertical-align: top;\n",
       "    }\n",
       "\n",
       "    .dataframe thead th {\n",
       "        text-align: right;\n",
       "    }\n",
       "</style>\n",
       "<table border=\"1\" class=\"dataframe\">\n",
       "  <thead>\n",
       "    <tr style=\"text-align: right;\">\n",
       "      <th></th>\n",
       "      <th>GME</th>\n",
       "      <th>TGT</th>\n",
       "      <th>BND</th>\n",
       "      <th>F</th>\n",
       "      <th>SPY</th>\n",
       "    </tr>\n",
       "  </thead>\n",
       "  <tbody>\n",
       "    <tr>\n",
       "      <th>2013-12-31</th>\n",
       "      <td>23432.4</td>\n",
       "      <td>3297.3</td>\n",
       "      <td>47491.6</td>\n",
       "      <td>119.6</td>\n",
       "      <td>25659.2</td>\n",
       "    </tr>\n",
       "  </tbody>\n",
       "</table>\n",
       "</div>"
      ],
      "text/plain": [
       "                GME     TGT      BND      F      SPY\n",
       "2013-12-31  23432.4  3297.3  47491.6  119.6  25659.2"
      ]
     },
     "execution_count": 26,
     "metadata": {},
     "output_type": "execute_result"
    }
   ],
   "source": [
    "capital = 100_000\n",
    "allocation = capital*some_weights\n",
    "allocation"
   ]
  },
  {
   "cell_type": "code",
   "execution_count": 27,
   "metadata": {},
   "outputs": [
    {
     "name": "stdout",
     "output_type": "stream",
     "text": [
      "12.359999656677246\n",
      "62.56999969482422\n",
      "80.05999755859375\n",
      "15.289999961853027\n",
      "184.07000732421875\n"
     ]
    },
    {
     "data": {
      "text/html": [
       "<div>\n",
       "<style scoped>\n",
       "    .dataframe tbody tr th:only-of-type {\n",
       "        vertical-align: middle;\n",
       "    }\n",
       "\n",
       "    .dataframe tbody tr th {\n",
       "        vertical-align: top;\n",
       "    }\n",
       "\n",
       "    .dataframe thead th {\n",
       "        text-align: right;\n",
       "    }\n",
       "</style>\n",
       "<table border=\"1\" class=\"dataframe\">\n",
       "  <thead>\n",
       "    <tr style=\"text-align: right;\">\n",
       "      <th></th>\n",
       "      <th>GME</th>\n",
       "      <th>TGT</th>\n",
       "      <th>BND</th>\n",
       "      <th>F</th>\n",
       "      <th>SPY</th>\n",
       "    </tr>\n",
       "  </thead>\n",
       "  <tbody>\n",
       "    <tr>\n",
       "      <th>2013-12-31</th>\n",
       "      <td>1895.825295</td>\n",
       "      <td>52.697779</td>\n",
       "      <td>593.200118</td>\n",
       "      <td>7.822106</td>\n",
       "      <td>139.399136</td>\n",
       "    </tr>\n",
       "  </tbody>\n",
       "</table>\n",
       "</div>"
      ],
      "text/plain": [
       "                    GME        TGT         BND         F         SPY\n",
       "2013-12-31  1895.825295  52.697779  593.200118  7.822106  139.399136"
      ]
     },
     "execution_count": 27,
     "metadata": {},
     "output_type": "execute_result"
    }
   ],
   "source": [
    "print(df[\"GME_Open\"].loc[some_weights.last_valid_index()])\n",
    "print(df[\"TGT_Open\"].loc[some_weights.last_valid_index()])\n",
    "print(df[\"BND_Open\"].loc[some_weights.last_valid_index()])\n",
    "print(df[\"F_Open\"].loc[some_weights.last_valid_index()])\n",
    "print(df[\"SPY_Open\"].loc[some_weights.last_valid_index()])\n",
    "\n",
    "no_of_shares = allocation \n",
    "# no_of_shares[['GMG','TGT','BND','F','SPY']].iloc[0] /= df[[\"GME_Close\",\"TGT_Close\",\"BND_Close\",\"F_Close\",\"SPY_Close\"]].loc[some_weights.last_valid_index()]\n",
    "no_of_shares[\"GME\"].iloc[0] /= df[\"GME_Open\"].loc[some_weights.last_valid_index()]\n",
    "no_of_shares[\"TGT\"].iloc[0] /= df[\"TGT_Open\"].loc[some_weights.last_valid_index()]\n",
    "no_of_shares[\"BND\"].iloc[0] /= df[\"BND_Open\"].loc[some_weights.last_valid_index()]\n",
    "no_of_shares[\"F\"].iloc[0] /= df['F_Open'].loc[some_weights.last_valid_index()]\n",
    "no_of_shares[\"SPY\"].iloc[0] /= df[\"SPY_Open\"].loc[some_weights.last_valid_index()]\n",
    "\n",
    "no_of_shares"
   ]
  },
  {
   "cell_type": "code",
   "execution_count": 28,
   "metadata": {
    "id": "AG-HoMi_nEm_"
   },
   "outputs": [],
   "source": [
    "weights =(0.234324,\t0.032973,\t0.474916,\t0.001196,\t0.256592)\n",
    "\n",
    "capital = 100_000"
   ]
  },
  {
   "cell_type": "code",
   "execution_count": 29,
   "metadata": {
    "colab": {
     "base_uri": "https://localhost:8080/"
    },
    "id": "iU3tsugDvj8e",
    "outputId": "60d79b51-c819-47ed-ebbb-e0bf5e7fb4c6"
   },
   "outputs": [
    {
     "data": {
      "text/plain": [
       "4084.0782956032917"
      ]
     },
     "execution_count": 29,
     "metadata": {},
     "output_type": "execute_result"
    }
   ],
   "source": [
    "gme_shares =  (capital * weights[0]) / df[\"GME_Open\"].iloc[0]\n",
    "gme_shares"
   ]
  },
  {
   "cell_type": "code",
   "execution_count": 30,
   "metadata": {
    "colab": {
     "base_uri": "https://localhost:8080/"
    },
    "id": "tA0_WVAlvz35",
    "outputId": "f3856c43-37e4-4482-e920-47b9e8551bce"
   },
   "outputs": [
    {
     "data": {
      "text/plain": [
       "55.01001127034959"
      ]
     },
     "execution_count": 30,
     "metadata": {},
     "output_type": "execute_result"
    }
   ],
   "source": [
    "tgt_shares =  (capital * weights[1]) / df[\"TGT_Open\"].iloc[0]\n",
    "tgt_shares"
   ]
  },
  {
   "cell_type": "code",
   "execution_count": 31,
   "metadata": {
    "colab": {
     "base_uri": "https://localhost:8080/"
    },
    "id": "86CLD3YTvtfK",
    "outputId": "cd193c61-fa02-47e6-e9c0-deffee1fdb9f"
   },
   "outputs": [
    {
     "data": {
      "text/plain": [
       "593.645"
      ]
     },
     "execution_count": 31,
     "metadata": {},
     "output_type": "execute_result"
    }
   ],
   "source": [
    "bnd_shares =  (capital * weights[2]) / df[\"BND_Open\"].iloc[0]\n",
    "bnd_shares"
   ]
  },
  {
   "cell_type": "code",
   "execution_count": 32,
   "metadata": {
    "colab": {
     "base_uri": "https://localhost:8080/"
    },
    "id": "vIEFVwIexQ5M",
    "outputId": "6da62aa8-446e-4a6b-aff9-616476ae3947"
   },
   "outputs": [
    {
     "data": {
      "text/plain": [
       "7.183183347757778"
      ]
     },
     "execution_count": 32,
     "metadata": {},
     "output_type": "execute_result"
    }
   ],
   "source": [
    "f_shares =  (capital * weights[3]) / df[\"F_Open\"].iloc[0]\n",
    "f_shares"
   ]
  },
  {
   "cell_type": "code",
   "execution_count": 33,
   "metadata": {
    "colab": {
     "base_uri": "https://localhost:8080/"
    },
    "id": "52guQqbmxc7H",
    "outputId": "853b1f6e-35c1-49f2-f282-7da5f5819143"
   },
   "outputs": [
    {
     "data": {
      "text/plain": [
       "204.40691666948265"
      ]
     },
     "execution_count": 33,
     "metadata": {},
     "output_type": "execute_result"
    }
   ],
   "source": [
    "spy_shares =  (capital * weights[4]) / df[\"SPY_Open\"].iloc[0]\n",
    "spy_shares"
   ]
  },
  {
   "cell_type": "code",
   "execution_count": 34,
   "metadata": {},
   "outputs": [
    {
     "name": "stderr",
     "output_type": "stream",
     "text": [
      "C:\\Users\\Hp\\AppData\\Local\\Temp/ipykernel_8996/772522182.py:2: SettingWithCopyWarning: \n",
      "A value is trying to be set on a copy of a slice from a DataFrame.\n",
      "Try using .loc[row_indexer,col_indexer] = value instead\n",
      "\n",
      "See the caveats in the documentation: https://pandas.pydata.org/pandas-docs/stable/user_guide/indexing.html#returning-a-view-versus-a-copy\n",
      "  seven_years['SFA_fund_Open'] = seven_years['GME_Open']*no_of_shares['GME'].iloc[0] + seven_years['TGT_Open']*no_of_shares['TGT'].iloc[0] + seven_years['BND_Open']*no_of_shares['BND'].iloc[0]+ seven_years['F_Open']*no_of_shares['F'].iloc[0]+ seven_years['SPY_Open']*no_of_shares['SPY'].iloc[0]\n",
      "C:\\Users\\Hp\\AppData\\Local\\Temp/ipykernel_8996/772522182.py:3: SettingWithCopyWarning: \n",
      "A value is trying to be set on a copy of a slice from a DataFrame.\n",
      "Try using .loc[row_indexer,col_indexer] = value instead\n",
      "\n",
      "See the caveats in the documentation: https://pandas.pydata.org/pandas-docs/stable/user_guide/indexing.html#returning-a-view-versus-a-copy\n",
      "  seven_years['SFA_fund_Close'] = seven_years['GME_Close']*no_of_shares['GME'].iloc[0] + seven_years['TGT_Close']*no_of_shares['TGT'].iloc[0]+ seven_years['BND_Close']*no_of_shares['BND'].iloc[0]+ seven_years['F_Close']*no_of_shares['F'].iloc[0]+ seven_years['SPY_Close']*no_of_shares['SPY'].iloc[0]\n"
     ]
    },
    {
     "data": {
      "text/html": [
       "<div>\n",
       "<style scoped>\n",
       "    .dataframe tbody tr th:only-of-type {\n",
       "        vertical-align: middle;\n",
       "    }\n",
       "\n",
       "    .dataframe tbody tr th {\n",
       "        vertical-align: top;\n",
       "    }\n",
       "\n",
       "    .dataframe thead th {\n",
       "        text-align: right;\n",
       "    }\n",
       "</style>\n",
       "<table border=\"1\" class=\"dataframe\">\n",
       "  <thead>\n",
       "    <tr style=\"text-align: right;\">\n",
       "      <th></th>\n",
       "      <th>SFA_fund_Open</th>\n",
       "      <th>SFA_fund_Close</th>\n",
       "    </tr>\n",
       "    <tr>\n",
       "      <th>Date</th>\n",
       "      <th></th>\n",
       "      <th></th>\n",
       "    </tr>\n",
       "  </thead>\n",
       "  <tbody>\n",
       "    <tr>\n",
       "      <th>2013-12-31</th>\n",
       "      <td>100000.100000</td>\n",
       "      <td>100033.269341</td>\n",
       "    </tr>\n",
       "    <tr>\n",
       "      <th>2014-01-02</th>\n",
       "      <td>99925.441743</td>\n",
       "      <td>100008.235994</td>\n",
       "    </tr>\n",
       "    <tr>\n",
       "      <th>2014-01-03</th>\n",
       "      <td>100079.969786</td>\n",
       "      <td>99832.544849</td>\n",
       "    </tr>\n",
       "    <tr>\n",
       "      <th>2014-01-06</th>\n",
       "      <td>99969.364156</td>\n",
       "      <td>99270.939858</td>\n",
       "    </tr>\n",
       "    <tr>\n",
       "      <th>2014-01-07</th>\n",
       "      <td>99546.525702</td>\n",
       "      <td>97566.877269</td>\n",
       "    </tr>\n",
       "    <tr>\n",
       "      <th>...</th>\n",
       "      <td>...</td>\n",
       "      <td>...</td>\n",
       "    </tr>\n",
       "    <tr>\n",
       "      <th>2020-12-24</th>\n",
       "      <td>122807.763782</td>\n",
       "      <td>122497.472457</td>\n",
       "    </tr>\n",
       "    <tr>\n",
       "      <th>2020-12-28</th>\n",
       "      <td>123489.339133</td>\n",
       "      <td>123383.169537</td>\n",
       "    </tr>\n",
       "    <tr>\n",
       "      <th>2020-12-29</th>\n",
       "      <td>123551.664841</td>\n",
       "      <td>122467.228521</td>\n",
       "    </tr>\n",
       "    <tr>\n",
       "      <th>2020-12-30</th>\n",
       "      <td>122636.621402</td>\n",
       "      <td>122459.010271</td>\n",
       "    </tr>\n",
       "    <tr>\n",
       "      <th>2020-12-31</th>\n",
       "      <td>122476.499839</td>\n",
       "      <td>122733.701878</td>\n",
       "    </tr>\n",
       "  </tbody>\n",
       "</table>\n",
       "<p>1764 rows × 2 columns</p>\n",
       "</div>"
      ],
      "text/plain": [
       "            SFA_fund_Open  SFA_fund_Close\n",
       "Date                                     \n",
       "2013-12-31  100000.100000   100033.269341\n",
       "2014-01-02   99925.441743   100008.235994\n",
       "2014-01-03  100079.969786    99832.544849\n",
       "2014-01-06   99969.364156    99270.939858\n",
       "2014-01-07   99546.525702    97566.877269\n",
       "...                   ...             ...\n",
       "2020-12-24  122807.763782   122497.472457\n",
       "2020-12-28  123489.339133   123383.169537\n",
       "2020-12-29  123551.664841   122467.228521\n",
       "2020-12-30  122636.621402   122459.010271\n",
       "2020-12-31  122476.499839   122733.701878\n",
       "\n",
       "[1764 rows x 2 columns]"
      ]
     },
     "execution_count": 34,
     "metadata": {},
     "output_type": "execute_result"
    }
   ],
   "source": [
    "seven_years = df.loc['2013-12-31':] \n",
    "seven_years['SFA_fund_Open'] = seven_years['GME_Open']*no_of_shares['GME'].iloc[0] + seven_years['TGT_Open']*no_of_shares['TGT'].iloc[0] + seven_years['BND_Open']*no_of_shares['BND'].iloc[0]+ seven_years['F_Open']*no_of_shares['F'].iloc[0]+ seven_years['SPY_Open']*no_of_shares['SPY'].iloc[0]\n",
    "seven_years['SFA_fund_Close'] = seven_years['GME_Close']*no_of_shares['GME'].iloc[0] + seven_years['TGT_Close']*no_of_shares['TGT'].iloc[0]+ seven_years['BND_Close']*no_of_shares['BND'].iloc[0]+ seven_years['F_Close']*no_of_shares['F'].iloc[0]+ seven_years['SPY_Close']*no_of_shares['SPY'].iloc[0]\n",
    "seven_years = seven_years[['SFA_fund_Open','SFA_fund_Close']]\n",
    "seven_years"
   ]
  },
  {
   "cell_type": "code",
   "execution_count": null,
   "metadata": {},
   "outputs": [],
   "source": []
  },
  {
   "cell_type": "code",
   "execution_count": 35,
   "metadata": {
    "colab": {
     "base_uri": "https://localhost:8080/",
     "height": 286
    },
    "id": "UWqHnHuk0x_V",
    "outputId": "198c74f8-412c-449d-b2b3-345d30ad5e65"
   },
   "outputs": [
    {
     "data": {
      "text/plain": [
       "<AxesSubplot:xlabel='Date'>"
      ]
     },
     "execution_count": 35,
     "metadata": {},
     "output_type": "execute_result"
    },
    {
     "data": {
      "image/png": "[encoded data removed]",
      "text/plain": [
       "<Figure size 432x288 with 1 Axes>"
      ]
     },
     "metadata": {
      "needs_background": "light"
     },
     "output_type": "display_data"
    }
   ],
   "source": [
    "portfolio = (df[[\"GME_Close\", \"TGT_Close\", \"BND_Close\",\"F_Close\",\"SPY_Close\"]] * [gme_shares, tgt_shares, bnd_shares,f_shares,spy_shares]).sum(axis=1).plot()\n",
    "portfolio"
   ]
  },
  {
   "cell_type": "code",
   "execution_count": 44,
   "metadata": {},
   "outputs": [
    {
     "name": "stdout",
     "output_type": "stream",
     "text": [
      "[*********************100%***********************]  1 of 1 completed\n",
      "Absolute Return of Our Portfolio:22.73%\n",
      "CAGR of Our Portfolio: 2.07%\n",
      "Information Ratio of Our Portfolio:-5.17\n",
      "\n"
     ]
    },
    {
     "data": {
      "text/plain": [
       "<AxesSubplot:xlabel='Date'>"
      ]
     },
     "execution_count": 44,
     "metadata": {},
     "output_type": "execute_result"
    },
    {
     "data": {
      "image/png": "[encoded data removed]",
      "text/plain": [
       "<Figure size 432x288 with 1 Axes>"
      ]
     },
     "metadata": {
      "needs_background": "light"
     },
     "output_type": "display_data"
    }
   ],
   "source": [
    "absolute_return_SFA = (seven_years['SFA_fund_Close'].iloc[-1]-capital)/capital\n",
    "CAGR_SFA = ((seven_years['SFA_fund_Close'].iloc[-1]/capital)**(365/(df.index[-1] - df.index[0]).days))-1\n",
    "\n",
    "# I choosed S&P500. To be the benchmark.\n",
    "df_SP500 = pdr.get_data_yahoo('^GSPC', '2014-01-01', '2021-10-30')\n",
    "df_SP500 = df_SP500[['Open', 'Close']]\n",
    "df_SP500 = df_SP500.rename(columns = {'Open': 'Open_SP500', 'Close': 'Close_SP500'})\n",
    "\n",
    "information_ratio_SFA = (seven_years.SFA_fund_Close.pct_change().dropna().mean() - df_SP500.Close_SP500.pct_change().dropna().mean())/(seven_years.SFA_fund_Close.pct_change().dropna().std()*df_SP500.Close_SP500.pct_change().dropna().std())\n",
    "\n",
    "SFA=f\"\"\"Absolute Return of Our Portfolio:{absolute_return_SFA*100:.2f}%\n",
    "CAGR of Our Portfolio: {CAGR_SFA*100:.2f}%\n",
    "Information Ratio of Our Portfolio:{information_ratio_SFA:.2f}\n",
    "\"\"\"\n",
    "print(SFA)\n",
    "seven_years.SFA_fund_Close.plot()"
   ]
  },
  {
   "cell_type": "code",
   "execution_count": 37,
   "metadata": {},
   "outputs": [
    {
     "data": {
      "text/html": [
       "<div>\n",
       "<style scoped>\n",
       "    .dataframe tbody tr th:only-of-type {\n",
       "        vertical-align: middle;\n",
       "    }\n",
       "\n",
       "    .dataframe tbody tr th {\n",
       "        vertical-align: top;\n",
       "    }\n",
       "\n",
       "    .dataframe thead th {\n",
       "        text-align: right;\n",
       "    }\n",
       "</style>\n",
       "<table border=\"1\" class=\"dataframe\">\n",
       "  <thead>\n",
       "    <tr style=\"text-align: right;\">\n",
       "      <th></th>\n",
       "      <th>SFA_fund_Open</th>\n",
       "      <th>SFA_fund_Close</th>\n",
       "      <th>Close_short_Rolling</th>\n",
       "      <th>Close_long_Rolling</th>\n",
       "      <th>Window_diff</th>\n",
       "      <th>Open_1_change</th>\n",
       "    </tr>\n",
       "    <tr>\n",
       "      <th>Date</th>\n",
       "      <th></th>\n",
       "      <th></th>\n",
       "      <th></th>\n",
       "      <th></th>\n",
       "      <th></th>\n",
       "      <th></th>\n",
       "    </tr>\n",
       "  </thead>\n",
       "  <tbody>\n",
       "    <tr>\n",
       "      <th>2014-01-22</th>\n",
       "      <td>94935.078229</td>\n",
       "      <td>95373.208154</td>\n",
       "      <td>94842.339057</td>\n",
       "      <td>97156.281201</td>\n",
       "      <td>2313.942144</td>\n",
       "      <td>-245.202820</td>\n",
       "    </tr>\n",
       "    <tr>\n",
       "      <th>2014-01-23</th>\n",
       "      <td>95366.010177</td>\n",
       "      <td>94800.933716</td>\n",
       "      <td>94921.968426</td>\n",
       "      <td>96807.458826</td>\n",
       "      <td>1885.490400</td>\n",
       "      <td>430.931948</td>\n",
       "    </tr>\n",
       "    <tr>\n",
       "      <th>2014-01-24</th>\n",
       "      <td>94553.878926</td>\n",
       "      <td>93508.202978</td>\n",
       "      <td>94662.308384</td>\n",
       "      <td>96374.123291</td>\n",
       "      <td>1711.814907</td>\n",
       "      <td>-812.131251</td>\n",
       "    </tr>\n",
       "    <tr>\n",
       "      <th>2014-01-27</th>\n",
       "      <td>93564.957308</td>\n",
       "      <td>93674.249090</td>\n",
       "      <td>94462.740776</td>\n",
       "      <td>95963.570241</td>\n",
       "      <td>1500.829465</td>\n",
       "      <td>-988.921619</td>\n",
       "    </tr>\n",
       "    <tr>\n",
       "      <th>2014-01-28</th>\n",
       "      <td>93735.022049</td>\n",
       "      <td>93271.176879</td>\n",
       "      <td>94125.554163</td>\n",
       "      <td>95563.586042</td>\n",
       "      <td>1438.031879</td>\n",
       "      <td>170.064741</td>\n",
       "    </tr>\n",
       "    <tr>\n",
       "      <th>...</th>\n",
       "      <td>...</td>\n",
       "      <td>...</td>\n",
       "      <td>...</td>\n",
       "      <td>...</td>\n",
       "      <td>...</td>\n",
       "      <td>...</td>\n",
       "    </tr>\n",
       "    <tr>\n",
       "      <th>2020-12-24</th>\n",
       "      <td>122807.763782</td>\n",
       "      <td>122497.472457</td>\n",
       "      <td>121404.039189</td>\n",
       "      <td>120279.187973</td>\n",
       "      <td>-1124.851216</td>\n",
       "      <td>658.052692</td>\n",
       "    </tr>\n",
       "    <tr>\n",
       "      <th>2020-12-28</th>\n",
       "      <td>123489.339133</td>\n",
       "      <td>123383.169537</td>\n",
       "      <td>122044.072670</td>\n",
       "      <td>120438.873966</td>\n",
       "      <td>-1605.198704</td>\n",
       "      <td>681.575350</td>\n",
       "    </tr>\n",
       "    <tr>\n",
       "      <th>2020-12-29</th>\n",
       "      <td>123551.664841</td>\n",
       "      <td>122467.228521</td>\n",
       "      <td>122531.920355</td>\n",
       "      <td>120564.703684</td>\n",
       "      <td>-1967.216671</td>\n",
       "      <td>62.325708</td>\n",
       "    </tr>\n",
       "    <tr>\n",
       "      <th>2020-12-30</th>\n",
       "      <td>122636.621402</td>\n",
       "      <td>122459.010271</td>\n",
       "      <td>122640.271166</td>\n",
       "      <td>120660.771852</td>\n",
       "      <td>-1979.499313</td>\n",
       "      <td>-915.043439</td>\n",
       "    </tr>\n",
       "    <tr>\n",
       "      <th>2020-12-31</th>\n",
       "      <td>122476.499839</td>\n",
       "      <td>122733.701878</td>\n",
       "      <td>122708.116533</td>\n",
       "      <td>120910.729653</td>\n",
       "      <td>-1797.386879</td>\n",
       "      <td>-160.121563</td>\n",
       "    </tr>\n",
       "  </tbody>\n",
       "</table>\n",
       "<p>1750 rows × 6 columns</p>\n",
       "</div>"
      ],
      "text/plain": [
       "            SFA_fund_Open  SFA_fund_Close  Close_short_Rolling  \\\n",
       "Date                                                             \n",
       "2014-01-22   94935.078229    95373.208154         94842.339057   \n",
       "2014-01-23   95366.010177    94800.933716         94921.968426   \n",
       "2014-01-24   94553.878926    93508.202978         94662.308384   \n",
       "2014-01-27   93564.957308    93674.249090         94462.740776   \n",
       "2014-01-28   93735.022049    93271.176879         94125.554163   \n",
       "...                   ...             ...                  ...   \n",
       "2020-12-24  122807.763782   122497.472457        121404.039189   \n",
       "2020-12-28  123489.339133   123383.169537        122044.072670   \n",
       "2020-12-29  123551.664841   122467.228521        122531.920355   \n",
       "2020-12-30  122636.621402   122459.010271        122640.271166   \n",
       "2020-12-31  122476.499839   122733.701878        122708.116533   \n",
       "\n",
       "            Close_long_Rolling  Window_diff  Open_1_change  \n",
       "Date                                                        \n",
       "2014-01-22        97156.281201  2313.942144    -245.202820  \n",
       "2014-01-23        96807.458826  1885.490400     430.931948  \n",
       "2014-01-24        96374.123291  1711.814907    -812.131251  \n",
       "2014-01-27        95963.570241  1500.829465    -988.921619  \n",
       "2014-01-28        95563.586042  1438.031879     170.064741  \n",
       "...                        ...          ...            ...  \n",
       "2020-12-24       120279.187973 -1124.851216     658.052692  \n",
       "2020-12-28       120438.873966 -1605.198704     681.575350  \n",
       "2020-12-29       120564.703684 -1967.216671      62.325708  \n",
       "2020-12-30       120660.771852 -1979.499313    -915.043439  \n",
       "2020-12-31       120910.729653 -1797.386879    -160.121563  \n",
       "\n",
       "[1750 rows x 6 columns]"
      ]
     },
     "execution_count": 37,
     "metadata": {},
     "output_type": "execute_result"
    }
   ],
   "source": [
    "short_time = 5\n",
    "long_time = 15\n",
    "seven_years['Close_short_Rolling'] = seven_years['SFA_fund_Close'].rolling(window = short_time).mean()\n",
    "seven_years['Close_long_Rolling'] = seven_years['SFA_fund_Close'].rolling(window = long_time).mean()\n",
    "seven_years['Window_diff'] = seven_years['Close_long_Rolling'] - seven_years['Close_short_Rolling']\n",
    "seven_years['Open_1_change'] = seven_years['SFA_fund_Open']-seven_years['SFA_fund_Open'].shift(1)\n",
    "seven_years = seven_years.dropna()\n",
    "seven_years"
   ]
  },
  {
   "cell_type": "code",
   "execution_count": 39,
   "metadata": {},
   "outputs": [
    {
     "data": {
      "text/html": [
       "<div>\n",
       "<style scoped>\n",
       "    .dataframe tbody tr th:only-of-type {\n",
       "        vertical-align: middle;\n",
       "    }\n",
       "\n",
       "    .dataframe tbody tr th {\n",
       "        vertical-align: top;\n",
       "    }\n",
       "\n",
       "    .dataframe thead th {\n",
       "        text-align: right;\n",
       "    }\n",
       "</style>\n",
       "<table border=\"1\" class=\"dataframe\">\n",
       "  <thead>\n",
       "    <tr style=\"text-align: right;\">\n",
       "      <th></th>\n",
       "      <th>0</th>\n",
       "      <th>1</th>\n",
       "    </tr>\n",
       "  </thead>\n",
       "  <tbody>\n",
       "    <tr>\n",
       "      <th>0</th>\n",
       "      <td>SFA_fund_Open</td>\n",
       "      <td>[0.00035946437722304597]</td>\n",
       "    </tr>\n",
       "    <tr>\n",
       "      <th>1</th>\n",
       "      <td>SFA_fund_Close</td>\n",
       "      <td>[-0.000414338400795833]</td>\n",
       "    </tr>\n",
       "    <tr>\n",
       "      <th>2</th>\n",
       "      <td>Close_short_Rolling</td>\n",
       "      <td>[1.2843078744152284e-05]</td>\n",
       "    </tr>\n",
       "    <tr>\n",
       "      <th>3</th>\n",
       "      <td>Close_long_Rolling</td>\n",
       "      <td>[4.266272640278682e-05]</td>\n",
       "    </tr>\n",
       "    <tr>\n",
       "      <th>4</th>\n",
       "      <td>Window_diff</td>\n",
       "      <td>[2.981964765766747e-05]</td>\n",
       "    </tr>\n",
       "    <tr>\n",
       "      <th>5</th>\n",
       "      <td>Open_1_change</td>\n",
       "      <td>[-7.303887688872847e-05]</td>\n",
       "    </tr>\n",
       "  </tbody>\n",
       "</table>\n",
       "</div>"
      ],
      "text/plain": [
       "                     0                         1\n",
       "0        SFA_fund_Open  [0.00035946437722304597]\n",
       "1       SFA_fund_Close   [-0.000414338400795833]\n",
       "2  Close_short_Rolling  [1.2843078744152284e-05]\n",
       "3   Close_long_Rolling   [4.266272640278682e-05]\n",
       "4          Window_diff   [2.981964765766747e-05]\n",
       "5        Open_1_change  [-7.303887688872847e-05]"
      ]
     },
     "execution_count": 39,
     "metadata": {},
     "output_type": "execute_result"
    }
   ],
   "source": [
    "X = seven_years.copy()\n",
    "y = np.where(X.SFA_fund_Close.shift(-1) >= X.SFA_fund_Close, 1, -1)\n",
    "index = int(0.3*len(X))\n",
    "X_train = X.iloc[:index]\n",
    "X_test = X.iloc[index:]\n",
    "y_train = y[:index]\n",
    "y_test = y[index:]\n",
    "logistic = LogisticRegression()\n",
    "logistic = logistic.fit(X_train,y_train)\n",
    "pd.DataFrame(zip(X.columns, np.transpose(logistic.coef_)))"
   ]
  },
  {
   "cell_type": "code",
   "execution_count": 45,
   "metadata": {},
   "outputs": [
    {
     "name": "stdout",
     "output_type": "stream",
     "text": [
      "[[233 314]\n",
      " [275 403]]\n",
      "0.5191836734693878\n"
     ]
    }
   ],
   "source": [
    "predictions= logistic.predict(X_test)\n",
    "print(metrics.confusion_matrix(y_test,predictions))\n",
    "print(logistic.score(X_test,y_test))"
   ]
  },
  {
   "cell_type": "code",
   "execution_count": 47,
   "metadata": {},
   "outputs": [
    {
     "data": {
      "text/html": [
       "<div>\n",
       "<style scoped>\n",
       "    .dataframe tbody tr th:only-of-type {\n",
       "        vertical-align: middle;\n",
       "    }\n",
       "\n",
       "    .dataframe tbody tr th {\n",
       "        vertical-align: top;\n",
       "    }\n",
       "\n",
       "    .dataframe thead th {\n",
       "        text-align: right;\n",
       "    }\n",
       "</style>\n",
       "<table border=\"1\" class=\"dataframe\">\n",
       "  <thead>\n",
       "    <tr style=\"text-align: right;\">\n",
       "      <th></th>\n",
       "      <th>SFA_fund_Open</th>\n",
       "      <th>SFA_fund_Close</th>\n",
       "      <th>Close_short_Rolling</th>\n",
       "      <th>Close_long_Rolling</th>\n",
       "      <th>Window_diff</th>\n",
       "      <th>Open_1_change</th>\n",
       "      <th>C2C_Price</th>\n",
       "      <th>Predictions</th>\n",
       "      <th>True_Label</th>\n",
       "      <th>Return</th>\n",
       "      <th>Cum_Return</th>\n",
       "    </tr>\n",
       "    <tr>\n",
       "      <th>Date</th>\n",
       "      <th></th>\n",
       "      <th></th>\n",
       "      <th></th>\n",
       "      <th></th>\n",
       "      <th></th>\n",
       "      <th></th>\n",
       "      <th></th>\n",
       "      <th></th>\n",
       "      <th></th>\n",
       "      <th></th>\n",
       "      <th></th>\n",
       "    </tr>\n",
       "  </thead>\n",
       "  <tbody>\n",
       "    <tr>\n",
       "      <th>2016-02-23</th>\n",
       "      <td>93615.349194</td>\n",
       "      <td>93460.505177</td>\n",
       "      <td>93196.104987</td>\n",
       "      <td>91945.977867</td>\n",
       "      <td>-1250.127120</td>\n",
       "      <td>490.242795</td>\n",
       "      <td>524.343853</td>\n",
       "      <td>-1</td>\n",
       "      <td>1</td>\n",
       "      <td>-524.343853</td>\n",
       "      <td>-524.343853</td>\n",
       "    </tr>\n",
       "    <tr>\n",
       "      <th>2016-02-24</th>\n",
       "      <td>93317.142944</td>\n",
       "      <td>93984.849030</td>\n",
       "      <td>93400.342849</td>\n",
       "      <td>92132.097989</td>\n",
       "      <td>-1268.244860</td>\n",
       "      <td>-298.206250</td>\n",
       "      <td>524.143172</td>\n",
       "      <td>-1</td>\n",
       "      <td>1</td>\n",
       "      <td>-524.143172</td>\n",
       "      <td>-1048.487024</td>\n",
       "    </tr>\n",
       "    <tr>\n",
       "      <th>2016-02-25</th>\n",
       "      <td>93972.132507</td>\n",
       "      <td>94508.992202</td>\n",
       "      <td>93646.303585</td>\n",
       "      <td>92334.920206</td>\n",
       "      <td>-1311.383379</td>\n",
       "      <td>654.989563</td>\n",
       "      <td>152.687668</td>\n",
       "      <td>-1</td>\n",
       "      <td>1</td>\n",
       "      <td>-152.687668</td>\n",
       "      <td>-1201.174692</td>\n",
       "    </tr>\n",
       "    <tr>\n",
       "      <th>2016-02-26</th>\n",
       "      <td>94641.897316</td>\n",
       "      <td>94661.679869</td>\n",
       "      <td>94040.355772</td>\n",
       "      <td>92525.071178</td>\n",
       "      <td>-1515.284593</td>\n",
       "      <td>669.764809</td>\n",
       "      <td>-49.544837</td>\n",
       "      <td>-1</td>\n",
       "      <td>-1</td>\n",
       "      <td>49.544837</td>\n",
       "      <td>-1151.629855</td>\n",
       "    </tr>\n",
       "    <tr>\n",
       "      <th>2016-02-29</th>\n",
       "      <td>94566.725863</td>\n",
       "      <td>94612.135032</td>\n",
       "      <td>94245.632262</td>\n",
       "      <td>92756.419053</td>\n",
       "      <td>-1489.213209</td>\n",
       "      <td>-75.171453</td>\n",
       "      <td>566.940509</td>\n",
       "      <td>-1</td>\n",
       "      <td>1</td>\n",
       "      <td>-566.940509</td>\n",
       "      <td>-1718.570364</td>\n",
       "    </tr>\n",
       "    <tr>\n",
       "      <th>...</th>\n",
       "      <td>...</td>\n",
       "      <td>...</td>\n",
       "      <td>...</td>\n",
       "      <td>...</td>\n",
       "      <td>...</td>\n",
       "      <td>...</td>\n",
       "      <td>...</td>\n",
       "      <td>...</td>\n",
       "      <td>...</td>\n",
       "      <td>...</td>\n",
       "      <td>...</td>\n",
       "    </tr>\n",
       "    <tr>\n",
       "      <th>2020-12-23</th>\n",
       "      <td>122149.711091</td>\n",
       "      <td>122394.475043</td>\n",
       "      <td>120963.029241</td>\n",
       "      <td>120133.177299</td>\n",
       "      <td>-829.851942</td>\n",
       "      <td>1688.054587</td>\n",
       "      <td>102.997413</td>\n",
       "      <td>-1</td>\n",
       "      <td>1</td>\n",
       "      <td>-102.997413</td>\n",
       "      <td>20595.692188</td>\n",
       "    </tr>\n",
       "    <tr>\n",
       "      <th>2020-12-24</th>\n",
       "      <td>122807.763782</td>\n",
       "      <td>122497.472457</td>\n",
       "      <td>121404.039189</td>\n",
       "      <td>120279.187973</td>\n",
       "      <td>-1124.851216</td>\n",
       "      <td>658.052692</td>\n",
       "      <td>885.697080</td>\n",
       "      <td>-1</td>\n",
       "      <td>1</td>\n",
       "      <td>-885.697080</td>\n",
       "      <td>19709.995107</td>\n",
       "    </tr>\n",
       "    <tr>\n",
       "      <th>2020-12-28</th>\n",
       "      <td>123489.339133</td>\n",
       "      <td>123383.169537</td>\n",
       "      <td>122044.072670</td>\n",
       "      <td>120438.873966</td>\n",
       "      <td>-1605.198704</td>\n",
       "      <td>681.575350</td>\n",
       "      <td>-915.941016</td>\n",
       "      <td>-1</td>\n",
       "      <td>-1</td>\n",
       "      <td>915.941016</td>\n",
       "      <td>20625.936124</td>\n",
       "    </tr>\n",
       "    <tr>\n",
       "      <th>2020-12-29</th>\n",
       "      <td>123551.664841</td>\n",
       "      <td>122467.228521</td>\n",
       "      <td>122531.920355</td>\n",
       "      <td>120564.703684</td>\n",
       "      <td>-1967.216671</td>\n",
       "      <td>62.325708</td>\n",
       "      <td>-8.218250</td>\n",
       "      <td>1</td>\n",
       "      <td>-1</td>\n",
       "      <td>-8.218250</td>\n",
       "      <td>20617.717874</td>\n",
       "    </tr>\n",
       "    <tr>\n",
       "      <th>2020-12-30</th>\n",
       "      <td>122636.621402</td>\n",
       "      <td>122459.010271</td>\n",
       "      <td>122640.271166</td>\n",
       "      <td>120660.771852</td>\n",
       "      <td>-1979.499313</td>\n",
       "      <td>-915.043439</td>\n",
       "      <td>274.691607</td>\n",
       "      <td>1</td>\n",
       "      <td>1</td>\n",
       "      <td>274.691607</td>\n",
       "      <td>20892.409481</td>\n",
       "    </tr>\n",
       "  </tbody>\n",
       "</table>\n",
       "<p>1224 rows × 11 columns</p>\n",
       "</div>"
      ],
      "text/plain": [
       "            SFA_fund_Open  SFA_fund_Close  Close_short_Rolling  \\\n",
       "Date                                                             \n",
       "2016-02-23   93615.349194    93460.505177         93196.104987   \n",
       "2016-02-24   93317.142944    93984.849030         93400.342849   \n",
       "2016-02-25   93972.132507    94508.992202         93646.303585   \n",
       "2016-02-26   94641.897316    94661.679869         94040.355772   \n",
       "2016-02-29   94566.725863    94612.135032         94245.632262   \n",
       "...                   ...             ...                  ...   \n",
       "2020-12-23  122149.711091   122394.475043        120963.029241   \n",
       "2020-12-24  122807.763782   122497.472457        121404.039189   \n",
       "2020-12-28  123489.339133   123383.169537        122044.072670   \n",
       "2020-12-29  123551.664841   122467.228521        122531.920355   \n",
       "2020-12-30  122636.621402   122459.010271        122640.271166   \n",
       "\n",
       "            Close_long_Rolling  Window_diff  Open_1_change   C2C_Price  \\\n",
       "Date                                                                     \n",
       "2016-02-23        91945.977867 -1250.127120     490.242795  524.343853   \n",
       "2016-02-24        92132.097989 -1268.244860    -298.206250  524.143172   \n",
       "2016-02-25        92334.920206 -1311.383379     654.989563  152.687668   \n",
       "2016-02-26        92525.071178 -1515.284593     669.764809  -49.544837   \n",
       "2016-02-29        92756.419053 -1489.213209     -75.171453  566.940509   \n",
       "...                        ...          ...            ...         ...   \n",
       "2020-12-23       120133.177299  -829.851942    1688.054587  102.997413   \n",
       "2020-12-24       120279.187973 -1124.851216     658.052692  885.697080   \n",
       "2020-12-28       120438.873966 -1605.198704     681.575350 -915.941016   \n",
       "2020-12-29       120564.703684 -1967.216671      62.325708   -8.218250   \n",
       "2020-12-30       120660.771852 -1979.499313    -915.043439  274.691607   \n",
       "\n",
       "            Predictions  True_Label      Return    Cum_Return  \n",
       "Date                                                           \n",
       "2016-02-23           -1           1 -524.343853   -524.343853  \n",
       "2016-02-24           -1           1 -524.143172  -1048.487024  \n",
       "2016-02-25           -1           1 -152.687668  -1201.174692  \n",
       "2016-02-26           -1          -1   49.544837  -1151.629855  \n",
       "2016-02-29           -1           1 -566.940509  -1718.570364  \n",
       "...                 ...         ...         ...           ...  \n",
       "2020-12-23           -1           1 -102.997413  20595.692188  \n",
       "2020-12-24           -1           1 -885.697080  19709.995107  \n",
       "2020-12-28           -1          -1  915.941016  20625.936124  \n",
       "2020-12-29            1          -1   -8.218250  20617.717874  \n",
       "2020-12-30            1           1  274.691607  20892.409481  \n",
       "\n",
       "[1224 rows x 11 columns]"
      ]
     },
     "execution_count": 47,
     "metadata": {},
     "output_type": "execute_result"
    }
   ],
   "source": [
    "results = X_test.copy()\n",
    "results['C2C_Price']= X_test.SFA_fund_Close.shift(-1) - X_test.SFA_fund_Close\n",
    "results['Predictions'] = predictions\n",
    "results['True_Label']= y_test\n",
    "results['Return']= results['C2C_Price']*results['Predictions']\n",
    "results['Cum_Return']= results['Return'].cumsum()\n",
    "results = results.dropna()\n",
    "results"
   ]
  },
  {
   "cell_type": "code",
   "execution_count": 50,
   "metadata": {},
   "outputs": [
    {
     "name": "stdout",
     "output_type": "stream",
     "text": [
      "Absolute Return of Our Algorithmic Trading:22.46%\n",
      "Absolute Return of Our buy-and-hold Trading :30.81%\n",
      "CAGR of Our Algorithmic Trading: 2.05%\n",
      "CAGR of Our buy-and-hold Trading: 2.72%\n",
      "Information Ratio of Our Algorithmic Trading:-3.93\n",
      "Information Ratio of Our buy-and-hold Trading:-3.93\n",
      "\n"
     ]
    },
    {
     "data": {
      "text/plain": [
       "<AxesSubplot:xlabel='Date'>"
      ]
     },
     "execution_count": 50,
     "metadata": {},
     "output_type": "execute_result"
    },
    {
     "data": {
      "image/png": "[encoded data removed]",
      "text/plain": [
       "<Figure size 432x288 with 1 Axes>"
      ]
     },
     "metadata": {
      "needs_background": "light"
     },
     "output_type": "display_data"
    }
   ],
   "source": [
    "absolute_return_tf = (results['SFA_fund_Close'].iloc[-1]-capital)/capital\n",
    "CAGR_tf = ((results['SFA_fund_Close'].iloc[-1]/capital)**(365/(df.index[-1] - df.index[0]).days))-1\n",
    "information_ratio_tf = (results.SFA_fund_Close.pct_change().mean() - df_SP500.Close_SP500.pct_change().dropna().mean())/(results.SFA_fund_Close.pct_change().std()*df_SP500.Close_SP500.pct_change().dropna().std())\n",
    "\n",
    "\n",
    "absolute_return_bh = (results.SFA_fund_Close.iloc[-1]-results.SFA_fund_Open.iloc[0])/results.SFA_fund_Open.iloc[0]\n",
    "CAGR_bh = ((results.SFA_fund_Close.iloc[-1]/results.SFA_fund_Open.iloc[0])**(365/(df.index[-1] - df.index[0]).days))-1\n",
    "information_ratio_bh = (results.SFA_fund_Close.pct_change().mean() - df_SP500.Close_SP500.pct_change().dropna().mean())/(results.SFA_fund_Close.pct_change().std()*df_SP500.Close_SP500.pct_change().dropna().std())\n",
    "\n",
    "SFA=f\"\"\"Absolute Return of Our Algorithmic Trading:{absolute_return_tf*100:.2f}%\n",
    "Absolute Return of Our buy-and-hold Trading :{absolute_return_bh*100:.2f}%\n",
    "CAGR of Our Algorithmic Trading: {CAGR_tf*100:.2f}%\n",
    "CAGR of Our buy-and-hold Trading: {CAGR_bh*100:.2f}%\n",
    "Information Ratio of Our Algorithmic Trading:{information_ratio_tf:.2f}\n",
    "Information Ratio of Our buy-and-hold Trading:{information_ratio_bh:.2f}\n",
    "\"\"\"\n",
    "print(SFA)\n",
    "\n",
    "# Plot the Equity Curve for the above trading strategy using an appropriate starting value.\n",
    "results.SFA_fund_Close.plot()\n",
    "\n",
    "((results.SFA_fund_Close.pct_change().dropna()+1).cumprod()*capital).plot()"
   ]
  },
  {
   "cell_type": "code",
   "execution_count": null,
   "metadata": {
    "id": "Mh-x4JoA6y2A"
   },
   "outputs": [],
   "source": [
    "# absolute_return_tf = (df_years_3['GME_Close'].iloc[-1]-capital)/capital\n",
    "# print(f\"Absolute_return_tf:%{np.round(absolute_return_tf,2)*100}\")\n",
    "\n",
    "# Calculate the CAGR or our trend-following trading strategy\n",
    "# CAGR_tf =((df_years_3['GME_Close'].iloc[-1]/capital)**(252/len(df)))-1\n",
    "# print(f\"CAGR_tf:%{np.round(CAGR_tf,2)*100}\")\n",
    "# Calculate the IR (Sharpe without RF-rate) of our trend-following trading strategy\n",
    "# information_ratio_tf = (df_years_3.GME_Close.pct_change().mean()/df_years_3.GME_Close.pct_change().std())*((252)**0.5)\n",
    "# print(f\"information_ratio_tf:%{np.round(information_ratio_tf,4)}\")\n",
    "#Plot the equity curve (hint: use 'account_val')\n",
    "# df_years_3.GME_Close.plot()"
   ]
  },
  {
   "cell_type": "code",
   "execution_count": null,
   "metadata": {
    "id": "94flhNwB1oE0"
   },
   "outputs": [],
   "source": [
    "# absolute_return_bh = ((df_years_3.[\"GME_Close\"].iloc[0]-df_years_3.[\"GME_Open\"].iloc[0])/df_years_3.[\"GME_Open\"].iloc[0])*100\n",
    "\n",
    "# CAGR_bh = ((df_years_3.[\"GME_Close\"].iloc[-1]/df_years_3.[\"GME_Open\"].iloc[0])**(252/len(df)))-1\n",
    "\n",
    "# information_ratio_bh = (df_years_3.[\"GME_Close\"].pct_change().mean()/df_years_3.[\"GME_Close\"].pct_change().std())*((252)**0.5)\n",
    "\n",
    "# ((df_years_3.[\"GME_Close\"].pct_change().dropna()+1).cumprod()*capital).plot()"
   ]
  }
 ],
 "metadata": {
  "colab": {
   "collapsed_sections": [],
   "name": "Belt_Exam_Afrah_Alharbi.ipynb",
   "provenance": []
  },
  "kernelspec": {
   "display_name": "Python 3 (ipykernel)",
   "language": "python",
   "name": "python3"
  },
  "language_info": {
   "codemirror_mode": {
    "name": "ipython",
    "version": 3
   },
   "file_extension": ".py",
   "mimetype": "text/x-python",
   "name": "python",
   "nbconvert_exporter": "python",
   "pygments_lexer": "ipython3",
   "version": "3.9.7"
  }
 },
 "nbformat": 4,
 "nbformat_minor": 1
}
